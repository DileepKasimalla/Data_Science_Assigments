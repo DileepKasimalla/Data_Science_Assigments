{
 "cells": [
  {
   "cell_type": "markdown",
   "id": "fdb9e8b1-b16f-4551-9fb5-3e6607e67fdd",
   "metadata": {},
   "source": [
    "# Estimation And Confidence Intervals"
   ]
  },
  {
   "cell_type": "markdown",
   "id": "33d0779b-ed4e-4d0d-9dec-3126a867aa92",
   "metadata": {},
   "source": [
    "### Background\r",
    "#### \n",
    "In quality control processes, especially when dealing with high-value items, destructive sampling is a necessary but costly method to ensure product quality. The test to determine whether an item meets the quality standards destroys the item, leading to the requirement of small sample sizes due to cost constraints\r\n"
   ]
  },
  {
   "cell_type": "markdown",
   "id": "889c7526-83d7-4d0f-9433-c952e76f7fe7",
   "metadata": {},
   "source": [
    "### Scenario\r",
    "#### \n",
    "A manufacturer of print-heads for personal computers is interested in estimating the mean durability of their print-heads in terms of the number of characters printed before failure. To assess this, the manufacturer conducts a study on a small sample of print-heads due to the destructive nature of the testing process.\r\n"
   ]
  },
  {
   "cell_type": "markdown",
   "id": "060e891f-94c8-4435-820a-6bd7e4152f85",
   "metadata": {},
   "source": [
    "### Data\r",
    "#### \n",
    "A total of 15 print-heads were randomly selected and tested until failure. The durability of each print-head (in millions of characters) was recorded as follows                                                                                                                                \r\n",
    "1.13, 1.55, 1.43, 0.92, 1.25, 1.36, 1.32, 0.85, 1.07, 1.48, 1.20, 1.33, 1.18, 1.22, 1.9\r\n"
   ]
  },
  {
   "cell_type": "code",
   "execution_count": 1,
   "id": "ba906a6e-6a99-4c8a-b161-10b1b354dcd2",
   "metadata": {},
   "outputs": [],
   "source": [
    "import numpy as np        # importing numpy library for numerical calculations\n",
    "import scipy              # importing scipy library for scientific computing and technical computing\n",
    "from scipy import stats   # importing stats form scipy for probabilistic distributions and statistical operations"
   ]
  },
  {
   "cell_type": "markdown",
   "id": "d84b7594-1575-4037-b271-359e2cef2061",
   "metadata": {},
   "source": [
    "### Assignment Tasks"
   ]
  },
  {
   "cell_type": "markdown",
   "id": "83fc0721-ee00-4f56-bbb5-4a2eb55439fc",
   "metadata": {},
   "source": [
    "### a. Build 99% Confidence Interval Using Sample Standard Deviation\r",
    "#### \n",
    "Assuming the sample is representative of the population, construct a 99% confidence interval for the mean number of characters printed before the print-head fails using the sample standard deviation. Explain the steps you take and the rationale behind using the t-distribution for this task.\r\n"
   ]
  },
  {
   "cell_type": "code",
   "execution_count": 3,
   "id": "4f327747-4300-4289-b164-e0106921df9b",
   "metadata": {},
   "outputs": [
    {
     "data": {
      "text/plain": [
       "array([1.13, 1.55, 1.43, 0.92, 1.25, 1.36, 1.32, 0.85, 1.07, 1.48, 1.2 ,\n",
       "       1.33, 1.18, 1.22, 1.29])"
      ]
     },
     "execution_count": 3,
     "metadata": {},
     "output_type": "execute_result"
    }
   ],
   "source": [
    "# converting given points into array\n",
    "data = np.array([1.13, 1.55, 1.43, 0.92, 1.25, 1.36, 1.32, 0.85, 1.07, 1.48, 1.20, 1.33, 1.18, 1.22, 1.29])\n",
    "data"
   ]
  },
  {
   "cell_type": "code",
   "execution_count": 4,
   "id": "34940b8d-5842-4ccf-b4a0-b77b0bdf508b",
   "metadata": {},
   "outputs": [
    {
     "name": "stdout",
     "output_type": "stream",
     "text": [
      "n =  15\n",
      "\n",
      "mean =  1.2386666666666666\n",
      "\n",
      "sample_std =  0.18661427836285438\n"
     ]
    }
   ],
   "source": [
    "n = len(data)                         # finding the length of the array and assining it to the n variable\n",
    "mean = data.mean()                    # finding the mean of the array  and assining it to the mean variable\n",
    "sample_std = data.std()               # finding the sample deviation of the array and assining it to the sample_std variable\n",
    "print(\"n = \", n)                      # printing the n value\n",
    "print(\"\\nmean = \", mean)              # printing the mean value\n",
    "print(\"\\nsample_std = \", sample_std)  # printing the sample standard deviation value"
   ]
  },
  {
   "cell_type": "code",
   "execution_count": 5,
   "id": "4df6958d-03ff-49f5-af47-2cd3985e1418",
   "metadata": {},
   "outputs": [
    {
     "name": "stdout",
     "output_type": "stream",
     "text": [
      "Degrees of Freedom =  14\n"
     ]
    }
   ],
   "source": [
    "dof = n - 1                           # finding the degrees of freedom and assining it to the dof variable\n",
    "print(\"Degrees of Freedom = \", dof)   # printing the degrees of freedom value"
   ]
  },
  {
   "cell_type": "code",
   "execution_count": 6,
   "id": "192ec931-f24c-4c0b-982f-88f406e30c36",
   "metadata": {},
   "outputs": [],
   "source": [
    "# Critical t-value for 99% confidence interval\n",
    "confidence_level = 0.99                               # assining the confidence value to confidence_level variable\n",
    "alpha = 1 - confidence_level                          # calculating the alpha value and assining it to the alpha variable\n",
    "t_critical = stats.t.ppf(1 - alpha/2, dof)            # calculating the t critical value and assining it to the t_critical variable"
   ]
  },
  {
   "cell_type": "code",
   "execution_count": 13,
   "id": "a833cada-317a-46b0-8128-e0b37120d709",
   "metadata": {},
   "outputs": [],
   "source": [
    "# Margin of error using sample standard deviation\n",
    "ME_t = t_critical * (sample_std / np.sqrt(n))"
   ]
  },
  {
   "cell_type": "code",
   "execution_count": 12,
   "id": "9ce2e08a-a736-4d95-933c-46230108a9b3",
   "metadata": {},
   "outputs": [],
   "source": [
    "# Confidence interval using sample standard deviation\n",
    "CI_t = (mean - ME_t, mean + ME_t)"
   ]
  },
  {
   "cell_type": "code",
   "execution_count": 14,
   "id": "1cbbd474-5710-4d59-8937-72b087cf9933",
   "metadata": {},
   "outputs": [
    {
     "name": "stdout",
     "output_type": "stream",
     "text": [
      "Sample Mean: 1.239\n",
      "Sample Standard Deviation: 0.187\n",
      "Critical t-value: 2.977\n",
      "99% Confidence Interval using Sample Standard Deviation: (1.0952316686385626, 1.3821016646947706)\n"
     ]
    }
   ],
   "source": [
    "# Print results\n",
    "print(f\"Sample Mean: {mean:.3f}\")\n",
    "print(f\"Sample Standard Deviation: {sample_std:.3f}\")\n",
    "print(f\"Critical t-value: {t_critical:.3f}\")\n",
    "print(f\"99% Confidence Interval using Sample Standard Deviation: {CI_t}\")"
   ]
  },
  {
   "cell_type": "markdown",
   "id": "464d9eea-3540-480d-9ed5-98ffaafee68e",
   "metadata": {},
   "source": [
    "### Explanation\n",
    "#### a. Task a Code:\n",
    "#####  1. Import libraries numpy and scipy.stats.t.\n",
    "#####  2. Calculate sample statistics (mean and sample standard deviation).\n",
    "#####  3. Compute the degrees of freedom.\n",
    "#####  4. Find the critical t-value for a 99% confidence interval.\n",
    "#####  5. Calculate the margin of error using the sample standard deviation.\n",
    "#####  6. Construct the confidence interval using the sample standard deviation.\n",
    "#####  7. Print the sample mean, sample standard deviation, critical t-value, and confidence interval."
   ]
  },
  {
   "cell_type": "code",
   "execution_count": null,
   "id": "bc6ffb4c-d03e-468c-ac34-0d063db66a3f",
   "metadata": {},
   "outputs": [],
   "source": []
  },
  {
   "cell_type": "markdown",
   "id": "c86a1c38-ece0-4926-b1ec-f6df3ec8041c",
   "metadata": {},
   "source": [
    "### b. Build 99% Confidence Interval Using Known Population Standard Deviation\r",
    "#### \n",
    "If it were known that the population standard deviation is 0.2 million characters, construct a 99% confidence interval for the mean number of characters printed before failure.\r\n"
   ]
  },
  {
   "cell_type": "code",
   "execution_count": 15,
   "id": "f9d0913f-c209-42e7-9cd3-7d2abdc67954",
   "metadata": {},
   "outputs": [],
   "source": [
    "# Known population standard deviation\n",
    "population_std = 0.2              # assining the population standard value to population_std variable"
   ]
  },
  {
   "cell_type": "code",
   "execution_count": 16,
   "id": "0a3eb692-74cc-45f3-8767-6bf646411874",
   "metadata": {},
   "outputs": [],
   "source": [
    "# Critical z-value for 99% confidence interval\n",
    "confidence_level = 0.99                   # assining the confidence value to confidence_level variable\n",
    "alpha = 1 - confidence_level              # calculating the alpha value and assining it to the alpha variable\n",
    "z_critical = stats.norm.ppf(1 - alpha/2)  # calculating the t critical value and assining it to the z_critical variable"
   ]
  },
  {
   "cell_type": "code",
   "execution_count": 17,
   "id": "708664f8-e56a-4633-8104-fa6345755d83",
   "metadata": {},
   "outputs": [],
   "source": [
    "# Margin of error using known population standard deviation\n",
    "ME_z = z_critical * (population_std / np.sqrt(n))"
   ]
  },
  {
   "cell_type": "code",
   "execution_count": 18,
   "id": "9874a467-62f6-42c8-b3cf-740ecd87b801",
   "metadata": {},
   "outputs": [],
   "source": [
    "# Confidence interval using known population standard deviation\n",
    "CI_z = (mean - ME_z, mean + ME_z)"
   ]
  },
  {
   "cell_type": "code",
   "execution_count": 19,
   "id": "c6860d8a-7085-4dc2-8cf4-035e768b088c",
   "metadata": {},
   "outputs": [
    {
     "name": "stdout",
     "output_type": "stream",
     "text": [
      "Sample Mean: 1.239\n",
      "Known Population Standard Deviation: 0.200\n",
      "Critical z-value: 2.576\n",
      "99% Confidence Interval using Known Population Standard Deviation: (1.1056514133957607, 1.3716819199375725)\n"
     ]
    }
   ],
   "source": [
    "# Print results\n",
    "print(f\"Sample Mean: {mean:.3f}\")\n",
    "print(f\"Known Population Standard Deviation: {population_std:.3f}\")\n",
    "print(f\"Critical z-value: {z_critical:.3f}\")\n",
    "print(f\"99% Confidence Interval using Known Population Standard Deviation: {CI_z}\")"
   ]
  },
  {
   "cell_type": "markdown",
   "id": "db3744cc-2a13-4f72-884d-069a961f01f2",
   "metadata": {},
   "source": [
    "### Explanation\n",
    "#### b. Task b Code:\n",
    "##### 1. Import libraries numpy and scipy.stats.norm.\n",
    "##### 2. Calculate the sample mean.\n",
    "##### 3. Define the known population standard deviation.\n",
    "##### 4. Find the critical z-value for a 99% confidence interval.\n",
    "##### 5. Calculate the margin of error using the known population standard deviation.\n",
    "##### 6. Construct the confidence interval using the known population standard deviation.\n",
    "##### 7. Print the sample mean, known population standard deviation, critical z-value, and confidence interval."
   ]
  },
  {
   "cell_type": "code",
   "execution_count": null,
   "id": "ef8ecc65-bdbe-4796-846e-e6d41302cfcf",
   "metadata": {},
   "outputs": [],
   "source": []
  }
 ],
 "metadata": {
  "kernelspec": {
   "display_name": "Python 3 (ipykernel)",
   "language": "python",
   "name": "python3"
  },
  "language_info": {
   "codemirror_mode": {
    "name": "ipython",
    "version": 3
   },
   "file_extension": ".py",
   "mimetype": "text/x-python",
   "name": "python",
   "nbconvert_exporter": "python",
   "pygments_lexer": "ipython3",
   "version": "3.11.7"
  }
 },
 "nbformat": 4,
 "nbformat_minor": 5
}
