{
 "cells": [
  {
   "cell_type": "markdown",
   "id": "31a63eb3-38a3-42b5-be68-5119dab03749",
   "metadata": {},
   "source": [
    "# K-NEAREST NEIGHBOURS"
   ]
  },
  {
   "cell_type": "markdown",
   "id": "91619373-ca43-47c5-91d3-5dba6e221083",
   "metadata": {},
   "source": [
    "### Objective:\r\n"
   ]
  },
  {
   "cell_type": "markdown",
   "id": "08912ad0-2a4b-4d78-862b-a709bcc16995",
   "metadata": {},
   "source": [
    "#### The objective of this assignment is to implement and evaluate the K-Nearest Neighbours algorithm for classification using the given datasets"
   ]
  },
  {
   "cell_type": "markdown",
   "id": "60b68c13-4693-4d10-8548-720211d5ae49",
   "metadata": {},
   "source": [
    "### Dataset:"
   ]
  },
  {
   "cell_type": "markdown",
   "id": "1e699f5e-1e38-496c-9373-15f14f96ac55",
   "metadata": {},
   "source": [
    "#### Need to Classify the animal type"
   ]
  },
  {
   "cell_type": "markdown",
   "id": "e98c3fd8-3d88-4651-84e8-d1500170be2f",
   "metadata": {},
   "source": [
    "### Tasks:"
   ]
  },
  {
   "cell_type": "code",
   "execution_count": 1,
   "id": "639d1123-5ac3-469f-8751-8baac87eca73",
   "metadata": {},
   "outputs": [],
   "source": [
    "# Import the pandas library for data manipulation and analysis\n",
    "import pandas as pd\n",
    "\n",
    "# Import the numpy library for numerical operations and array handling\n",
    "import numpy as np\n",
    "\n",
    "# Import the matplotlib library for creating visualizations\n",
    "import matplotlib.pyplot as plt\n",
    "\n",
    "# Import seaborn library for making statistical graphics\n",
    "import seaborn as sns"
   ]
  },
  {
   "cell_type": "code",
   "execution_count": 2,
   "id": "a1fd0451-d8f6-4650-9ef3-3b860ef5fdfa",
   "metadata": {},
   "outputs": [
    {
     "data": {
      "text/html": [
       "<div>\n",
       "<style scoped>\n",
       "    .dataframe tbody tr th:only-of-type {\n",
       "        vertical-align: middle;\n",
       "    }\n",
       "\n",
       "    .dataframe tbody tr th {\n",
       "        vertical-align: top;\n",
       "    }\n",
       "\n",
       "    .dataframe thead th {\n",
       "        text-align: right;\n",
       "    }\n",
       "</style>\n",
       "<table border=\"1\" class=\"dataframe\">\n",
       "  <thead>\n",
       "    <tr style=\"text-align: right;\">\n",
       "      <th></th>\n",
       "      <th>animal name</th>\n",
       "      <th>hair</th>\n",
       "      <th>feathers</th>\n",
       "      <th>eggs</th>\n",
       "      <th>milk</th>\n",
       "      <th>airborne</th>\n",
       "      <th>aquatic</th>\n",
       "      <th>predator</th>\n",
       "      <th>toothed</th>\n",
       "      <th>backbone</th>\n",
       "      <th>breathes</th>\n",
       "      <th>venomous</th>\n",
       "      <th>fins</th>\n",
       "      <th>legs</th>\n",
       "      <th>tail</th>\n",
       "      <th>domestic</th>\n",
       "      <th>catsize</th>\n",
       "      <th>type</th>\n",
       "    </tr>\n",
       "  </thead>\n",
       "  <tbody>\n",
       "    <tr>\n",
       "      <th>0</th>\n",
       "      <td>aardvark</td>\n",
       "      <td>1</td>\n",
       "      <td>0</td>\n",
       "      <td>0</td>\n",
       "      <td>1</td>\n",
       "      <td>0</td>\n",
       "      <td>0</td>\n",
       "      <td>1</td>\n",
       "      <td>1</td>\n",
       "      <td>1</td>\n",
       "      <td>1</td>\n",
       "      <td>0</td>\n",
       "      <td>0</td>\n",
       "      <td>4</td>\n",
       "      <td>0</td>\n",
       "      <td>0</td>\n",
       "      <td>1</td>\n",
       "      <td>1</td>\n",
       "    </tr>\n",
       "    <tr>\n",
       "      <th>1</th>\n",
       "      <td>antelope</td>\n",
       "      <td>1</td>\n",
       "      <td>0</td>\n",
       "      <td>0</td>\n",
       "      <td>1</td>\n",
       "      <td>0</td>\n",
       "      <td>0</td>\n",
       "      <td>0</td>\n",
       "      <td>1</td>\n",
       "      <td>1</td>\n",
       "      <td>1</td>\n",
       "      <td>0</td>\n",
       "      <td>0</td>\n",
       "      <td>4</td>\n",
       "      <td>1</td>\n",
       "      <td>0</td>\n",
       "      <td>1</td>\n",
       "      <td>1</td>\n",
       "    </tr>\n",
       "    <tr>\n",
       "      <th>2</th>\n",
       "      <td>bass</td>\n",
       "      <td>0</td>\n",
       "      <td>0</td>\n",
       "      <td>1</td>\n",
       "      <td>0</td>\n",
       "      <td>0</td>\n",
       "      <td>1</td>\n",
       "      <td>1</td>\n",
       "      <td>1</td>\n",
       "      <td>1</td>\n",
       "      <td>0</td>\n",
       "      <td>0</td>\n",
       "      <td>1</td>\n",
       "      <td>0</td>\n",
       "      <td>1</td>\n",
       "      <td>0</td>\n",
       "      <td>0</td>\n",
       "      <td>4</td>\n",
       "    </tr>\n",
       "    <tr>\n",
       "      <th>3</th>\n",
       "      <td>bear</td>\n",
       "      <td>1</td>\n",
       "      <td>0</td>\n",
       "      <td>0</td>\n",
       "      <td>1</td>\n",
       "      <td>0</td>\n",
       "      <td>0</td>\n",
       "      <td>1</td>\n",
       "      <td>1</td>\n",
       "      <td>1</td>\n",
       "      <td>1</td>\n",
       "      <td>0</td>\n",
       "      <td>0</td>\n",
       "      <td>4</td>\n",
       "      <td>0</td>\n",
       "      <td>0</td>\n",
       "      <td>1</td>\n",
       "      <td>1</td>\n",
       "    </tr>\n",
       "    <tr>\n",
       "      <th>4</th>\n",
       "      <td>boar</td>\n",
       "      <td>1</td>\n",
       "      <td>0</td>\n",
       "      <td>0</td>\n",
       "      <td>1</td>\n",
       "      <td>0</td>\n",
       "      <td>0</td>\n",
       "      <td>1</td>\n",
       "      <td>1</td>\n",
       "      <td>1</td>\n",
       "      <td>1</td>\n",
       "      <td>0</td>\n",
       "      <td>0</td>\n",
       "      <td>4</td>\n",
       "      <td>1</td>\n",
       "      <td>0</td>\n",
       "      <td>1</td>\n",
       "      <td>1</td>\n",
       "    </tr>\n",
       "    <tr>\n",
       "      <th>...</th>\n",
       "      <td>...</td>\n",
       "      <td>...</td>\n",
       "      <td>...</td>\n",
       "      <td>...</td>\n",
       "      <td>...</td>\n",
       "      <td>...</td>\n",
       "      <td>...</td>\n",
       "      <td>...</td>\n",
       "      <td>...</td>\n",
       "      <td>...</td>\n",
       "      <td>...</td>\n",
       "      <td>...</td>\n",
       "      <td>...</td>\n",
       "      <td>...</td>\n",
       "      <td>...</td>\n",
       "      <td>...</td>\n",
       "      <td>...</td>\n",
       "      <td>...</td>\n",
       "    </tr>\n",
       "    <tr>\n",
       "      <th>96</th>\n",
       "      <td>wallaby</td>\n",
       "      <td>1</td>\n",
       "      <td>0</td>\n",
       "      <td>0</td>\n",
       "      <td>1</td>\n",
       "      <td>0</td>\n",
       "      <td>0</td>\n",
       "      <td>0</td>\n",
       "      <td>1</td>\n",
       "      <td>1</td>\n",
       "      <td>1</td>\n",
       "      <td>0</td>\n",
       "      <td>0</td>\n",
       "      <td>2</td>\n",
       "      <td>1</td>\n",
       "      <td>0</td>\n",
       "      <td>1</td>\n",
       "      <td>1</td>\n",
       "    </tr>\n",
       "    <tr>\n",
       "      <th>97</th>\n",
       "      <td>wasp</td>\n",
       "      <td>1</td>\n",
       "      <td>0</td>\n",
       "      <td>1</td>\n",
       "      <td>0</td>\n",
       "      <td>1</td>\n",
       "      <td>0</td>\n",
       "      <td>0</td>\n",
       "      <td>0</td>\n",
       "      <td>0</td>\n",
       "      <td>1</td>\n",
       "      <td>1</td>\n",
       "      <td>0</td>\n",
       "      <td>6</td>\n",
       "      <td>0</td>\n",
       "      <td>0</td>\n",
       "      <td>0</td>\n",
       "      <td>6</td>\n",
       "    </tr>\n",
       "    <tr>\n",
       "      <th>98</th>\n",
       "      <td>wolf</td>\n",
       "      <td>1</td>\n",
       "      <td>0</td>\n",
       "      <td>0</td>\n",
       "      <td>1</td>\n",
       "      <td>0</td>\n",
       "      <td>0</td>\n",
       "      <td>1</td>\n",
       "      <td>1</td>\n",
       "      <td>1</td>\n",
       "      <td>1</td>\n",
       "      <td>0</td>\n",
       "      <td>0</td>\n",
       "      <td>4</td>\n",
       "      <td>1</td>\n",
       "      <td>0</td>\n",
       "      <td>1</td>\n",
       "      <td>1</td>\n",
       "    </tr>\n",
       "    <tr>\n",
       "      <th>99</th>\n",
       "      <td>worm</td>\n",
       "      <td>0</td>\n",
       "      <td>0</td>\n",
       "      <td>1</td>\n",
       "      <td>0</td>\n",
       "      <td>0</td>\n",
       "      <td>0</td>\n",
       "      <td>0</td>\n",
       "      <td>0</td>\n",
       "      <td>0</td>\n",
       "      <td>1</td>\n",
       "      <td>0</td>\n",
       "      <td>0</td>\n",
       "      <td>0</td>\n",
       "      <td>0</td>\n",
       "      <td>0</td>\n",
       "      <td>0</td>\n",
       "      <td>7</td>\n",
       "    </tr>\n",
       "    <tr>\n",
       "      <th>100</th>\n",
       "      <td>wren</td>\n",
       "      <td>0</td>\n",
       "      <td>1</td>\n",
       "      <td>1</td>\n",
       "      <td>0</td>\n",
       "      <td>1</td>\n",
       "      <td>0</td>\n",
       "      <td>0</td>\n",
       "      <td>0</td>\n",
       "      <td>1</td>\n",
       "      <td>1</td>\n",
       "      <td>0</td>\n",
       "      <td>0</td>\n",
       "      <td>2</td>\n",
       "      <td>1</td>\n",
       "      <td>0</td>\n",
       "      <td>0</td>\n",
       "      <td>2</td>\n",
       "    </tr>\n",
       "  </tbody>\n",
       "</table>\n",
       "<p>101 rows × 18 columns</p>\n",
       "</div>"
      ],
      "text/plain": [
       "    animal name  hair  feathers  eggs  milk  airborne  aquatic  predator  \\\n",
       "0      aardvark     1         0     0     1         0        0         1   \n",
       "1      antelope     1         0     0     1         0        0         0   \n",
       "2          bass     0         0     1     0         0        1         1   \n",
       "3          bear     1         0     0     1         0        0         1   \n",
       "4          boar     1         0     0     1         0        0         1   \n",
       "..          ...   ...       ...   ...   ...       ...      ...       ...   \n",
       "96      wallaby     1         0     0     1         0        0         0   \n",
       "97         wasp     1         0     1     0         1        0         0   \n",
       "98         wolf     1         0     0     1         0        0         1   \n",
       "99         worm     0         0     1     0         0        0         0   \n",
       "100        wren     0         1     1     0         1        0         0   \n",
       "\n",
       "     toothed  backbone  breathes  venomous  fins  legs  tail  domestic  \\\n",
       "0          1         1         1         0     0     4     0         0   \n",
       "1          1         1         1         0     0     4     1         0   \n",
       "2          1         1         0         0     1     0     1         0   \n",
       "3          1         1         1         0     0     4     0         0   \n",
       "4          1         1         1         0     0     4     1         0   \n",
       "..       ...       ...       ...       ...   ...   ...   ...       ...   \n",
       "96         1         1         1         0     0     2     1         0   \n",
       "97         0         0         1         1     0     6     0         0   \n",
       "98         1         1         1         0     0     4     1         0   \n",
       "99         0         0         1         0     0     0     0         0   \n",
       "100        0         1         1         0     0     2     1         0   \n",
       "\n",
       "     catsize  type  \n",
       "0          1     1  \n",
       "1          1     1  \n",
       "2          0     4  \n",
       "3          1     1  \n",
       "4          1     1  \n",
       "..       ...   ...  \n",
       "96         1     1  \n",
       "97         0     6  \n",
       "98         1     1  \n",
       "99         0     7  \n",
       "100        0     2  \n",
       "\n",
       "[101 rows x 18 columns]"
      ]
     },
     "execution_count": 2,
     "metadata": {},
     "output_type": "execute_result"
    }
   ],
   "source": [
    "# Read the CSV file named \"Zoo.csv\" into a pandas DataFrame called 'zoo'\n",
    "zoo = pd.read_csv(\"Zoo.csv\")\n",
    "\n",
    "# Display the contents of the DataFrame 'zoo'\n",
    "zoo"
   ]
  },
  {
   "cell_type": "code",
   "execution_count": 3,
   "id": "bb618fce-f431-4985-b370-286a22685198",
   "metadata": {},
   "outputs": [
    {
     "data": {
      "text/plain": [
       "animal name    object\n",
       "hair            int64\n",
       "feathers        int64\n",
       "eggs            int64\n",
       "milk            int64\n",
       "airborne        int64\n",
       "aquatic         int64\n",
       "predator        int64\n",
       "toothed         int64\n",
       "backbone        int64\n",
       "breathes        int64\n",
       "venomous        int64\n",
       "fins            int64\n",
       "legs            int64\n",
       "tail            int64\n",
       "domestic        int64\n",
       "catsize         int64\n",
       "type            int64\n",
       "dtype: object"
      ]
     },
     "execution_count": 3,
     "metadata": {},
     "output_type": "execute_result"
    }
   ],
   "source": [
    "# Display the data types of each column in the DataFrame 'zoo'\n",
    "zoo.dtypes"
   ]
  },
  {
   "cell_type": "code",
   "execution_count": 4,
   "id": "ada13afb-49ed-4517-9d62-0a41a8f4cfa4",
   "metadata": {},
   "outputs": [
    {
     "data": {
      "text/plain": [
       "Index(['animal name', 'hair', 'feathers', 'eggs', 'milk', 'airborne',\n",
       "       'aquatic', 'predator', 'toothed', 'backbone', 'breathes', 'venomous',\n",
       "       'fins', 'legs', 'tail', 'domestic', 'catsize', 'type'],\n",
       "      dtype='object')"
      ]
     },
     "execution_count": 4,
     "metadata": {},
     "output_type": "execute_result"
    }
   ],
   "source": [
    "# Display the column names of the DataFrame 'zoo'\n",
    "zoo.columns"
   ]
  },
  {
   "cell_type": "code",
   "execution_count": 5,
   "id": "22f55c4a-9598-4e25-9e9d-7bf96bdeebaa",
   "metadata": {},
   "outputs": [
    {
     "data": {
      "text/plain": [
       "animal name    category\n",
       "hair           category\n",
       "feathers       category\n",
       "eggs           category\n",
       "milk           category\n",
       "airborne       category\n",
       "aquatic        category\n",
       "predator       category\n",
       "toothed        category\n",
       "backbone       category\n",
       "breathes       category\n",
       "venomous       category\n",
       "fins           category\n",
       "legs              int64\n",
       "tail           category\n",
       "domestic       category\n",
       "catsize        category\n",
       "type           category\n",
       "dtype: object"
      ]
     },
     "execution_count": 5,
     "metadata": {},
     "output_type": "execute_result"
    }
   ],
   "source": [
    "# Convert specified columns in the DataFrame 'zoo' to categorical data types\n",
    "zoo = zoo.astype({'animal name': 'category', 'hair': 'category', 'feathers': 'category', 'eggs': 'category', 'milk': 'category',\n",
    "                  'airborne': 'category', 'aquatic': 'category', 'predator': 'category', 'toothed': 'category', 'backbone': 'category',\n",
    "                  'breathes': 'category', 'venomous': 'category', 'fins': 'category', 'tail': 'category',\n",
    "                  'domestic': 'category', 'catsize': 'category', 'type': 'category'})\n",
    "\n",
    "# Display the data types of each column in the updated DataFrame 'zoo'\n",
    "zoo.dtypes"
   ]
  },
  {
   "cell_type": "code",
   "execution_count": 6,
   "id": "0db23313-6499-4e9a-b4eb-f5051f0b315e",
   "metadata": {},
   "outputs": [
    {
     "data": {
      "text/plain": [
       "0"
      ]
     },
     "execution_count": 6,
     "metadata": {},
     "output_type": "execute_result"
    }
   ],
   "source": [
    "# Count the number of duplicate rows in the DataFrame 'zoo'\n",
    "zoo.duplicated().sum()"
   ]
  },
  {
   "cell_type": "code",
   "execution_count": 7,
   "id": "ca291db9-8769-4aa0-82bc-dd3f32a2215f",
   "metadata": {},
   "outputs": [
    {
     "data": {
      "text/html": [
       "<div>\n",
       "<style scoped>\n",
       "    .dataframe tbody tr th:only-of-type {\n",
       "        vertical-align: middle;\n",
       "    }\n",
       "\n",
       "    .dataframe tbody tr th {\n",
       "        vertical-align: top;\n",
       "    }\n",
       "\n",
       "    .dataframe thead th {\n",
       "        text-align: right;\n",
       "    }\n",
       "</style>\n",
       "<table border=\"1\" class=\"dataframe\">\n",
       "  <thead>\n",
       "    <tr style=\"text-align: right;\">\n",
       "      <th></th>\n",
       "      <th>legs</th>\n",
       "    </tr>\n",
       "  </thead>\n",
       "  <tbody>\n",
       "    <tr>\n",
       "      <th>count</th>\n",
       "      <td>101.000000</td>\n",
       "    </tr>\n",
       "    <tr>\n",
       "      <th>mean</th>\n",
       "      <td>2.841584</td>\n",
       "    </tr>\n",
       "    <tr>\n",
       "      <th>std</th>\n",
       "      <td>2.033385</td>\n",
       "    </tr>\n",
       "    <tr>\n",
       "      <th>min</th>\n",
       "      <td>0.000000</td>\n",
       "    </tr>\n",
       "    <tr>\n",
       "      <th>25%</th>\n",
       "      <td>2.000000</td>\n",
       "    </tr>\n",
       "    <tr>\n",
       "      <th>50%</th>\n",
       "      <td>4.000000</td>\n",
       "    </tr>\n",
       "    <tr>\n",
       "      <th>75%</th>\n",
       "      <td>4.000000</td>\n",
       "    </tr>\n",
       "    <tr>\n",
       "      <th>max</th>\n",
       "      <td>8.000000</td>\n",
       "    </tr>\n",
       "  </tbody>\n",
       "</table>\n",
       "</div>"
      ],
      "text/plain": [
       "             legs\n",
       "count  101.000000\n",
       "mean     2.841584\n",
       "std      2.033385\n",
       "min      0.000000\n",
       "25%      2.000000\n",
       "50%      4.000000\n",
       "75%      4.000000\n",
       "max      8.000000"
      ]
     },
     "execution_count": 7,
     "metadata": {},
     "output_type": "execute_result"
    }
   ],
   "source": [
    "# Generate descriptive statistics for the DataFrame 'zoo', including count, mean, standard deviation, min, and max values\n",
    "zoo.describe()"
   ]
  },
  {
   "cell_type": "markdown",
   "id": "815d88f9-3652-4a4e-b5c2-bdbf4b5f34a0",
   "metadata": {},
   "source": [
    "### 1. Analyse the data using the visualizations"
   ]
  },
  {
   "cell_type": "code",
   "execution_count": 8,
   "id": "f02604d4-11c6-4300-9d04-ee53bb5fa640",
   "metadata": {
    "scrolled": true
   },
   "outputs": [
    {
     "data": {
      "image/png": "[encoded data removed]",
      "text/plain": [
       "<Figure size 1500x1000 with 1 Axes>"
      ]
     },
     "metadata": {},
     "output_type": "display_data"
    }
   ],
   "source": [
    "# Create histograms for all numeric columns in the DataFrame 'zoo' with a specified figure size of 15x10 inches\n",
    "zoo.hist(figsize=(15, 10))\n",
    "\n",
    "# Adjust the layout to prevent overlap and ensure everything fits within the figure area\n",
    "plt.tight_layout()\n",
    "\n",
    "# Display the histograms\n",
    "plt.show()"
   ]
  },
  {
   "cell_type": "markdown",
   "id": "34a3857f-b474-4f27-a0b6-4475bdbbfc57",
   "metadata": {},
   "source": [
    "### 2. Preprocess the data by handling missing values & Outliers, if any."
   ]
  },
  {
   "cell_type": "code",
   "execution_count": 9,
   "id": "78458a34-a0ea-4f8c-8b34-bef1a5c00f6e",
   "metadata": {},
   "outputs": [
    {
     "data": {
      "text/plain": [
       "animal name    0\n",
       "hair           0\n",
       "feathers       0\n",
       "eggs           0\n",
       "milk           0\n",
       "airborne       0\n",
       "aquatic        0\n",
       "predator       0\n",
       "toothed        0\n",
       "backbone       0\n",
       "breathes       0\n",
       "venomous       0\n",
       "fins           0\n",
       "legs           0\n",
       "tail           0\n",
       "domestic       0\n",
       "catsize        0\n",
       "type           0\n",
       "dtype: int64"
      ]
     },
     "execution_count": 9,
     "metadata": {},
     "output_type": "execute_result"
    }
   ],
   "source": [
    "# Count the number of missing (null) values in each column of the DataFrame 'zoo'\n",
    "zoo.isnull().sum()"
   ]
  },
  {
   "cell_type": "code",
   "execution_count": 10,
   "id": "73811e35-cf38-4c0e-b924-31633f043841",
   "metadata": {},
   "outputs": [
    {
     "data": {
      "text/plain": [
       "(101, 17)"
      ]
     },
     "execution_count": 10,
     "metadata": {},
     "output_type": "execute_result"
    }
   ],
   "source": [
    "# Drop the column \"animal name\" from the DataFrame 'zoo'\n",
    "zoo = zoo.drop([\"animal name\"], axis=1)\n",
    "\n",
    "# Display the shape of the DataFrame 'zoo' after dropping the column\n",
    "zoo.shape"
   ]
  },
  {
   "cell_type": "code",
   "execution_count": 11,
   "id": "7380f479-4881-411d-850f-8e08e1ce3f8d",
   "metadata": {},
   "outputs": [
    {
     "name": "stdout",
     "output_type": "stream",
     "text": [
      "******* Categorical Columns *******\n",
      "['hair', 'feathers', 'eggs', 'milk', 'airborne', 'aquatic', 'predator', 'toothed', 'backbone', 'breathes', 'venomous', 'fins', 'tail', 'domestic', 'catsize', 'type']\n",
      "\n",
      "******* Numerical Columns *******\n",
      "['legs']\n"
     ]
    }
   ],
   "source": [
    "# Define a list of categorical columns in the DataFrame 'zoo'\n",
    "cat_cols = ['hair', 'feathers', 'eggs', 'milk', 'airborne',\n",
    "            'aquatic', 'predator', 'toothed', 'backbone', 'breathes', 'venomous',\n",
    "            'fins', 'tail', 'domestic', 'catsize', 'type']\n",
    "\n",
    "# Define a list of numerical columns in the DataFrame 'zoo'\n",
    "num_cols = ['legs']\n",
    "\n",
    "# Print a header for categorical columns\n",
    "print(\"******* Categorical Columns *******\")\n",
    "\n",
    "# Print the list of categorical columns\n",
    "print(cat_cols)\n",
    "\n",
    "# Print a header for numerical columns\n",
    "print(\"\\n******* Numerical Columns *******\")\n",
    "\n",
    "# Print the list of numerical columns\n",
    "print(num_cols)"
   ]
  },
  {
   "cell_type": "code",
   "execution_count": 12,
   "id": "5abd1425-20b5-4393-bd39-639519ebcd19",
   "metadata": {
    "scrolled": true
   },
   "outputs": [
    {
     "name": "stdout",
     "output_type": "stream",
     "text": [
      "Q1:\n",
      "legs    2.0\n",
      "Name: 0.25, dtype: float64\n",
      "\n",
      "Q3:\n",
      "legs    4.0\n",
      "Name: 0.75, dtype: float64\n",
      "\n",
      "IQR:\n",
      "legs    2.0\n",
      "dtype: float64\n",
      "\n",
      "Lower Bound:\n",
      "legs   -1.0\n",
      "dtype: float64\n",
      "\n",
      "Upper Bound:\n",
      "legs    7.0\n",
      "dtype: float64\n",
      "\n",
      "Number of Outlier Observations: 2\n"
     ]
    },
    {
     "data": {
      "text/html": [
       "<div>\n",
       "<style scoped>\n",
       "    .dataframe tbody tr th:only-of-type {\n",
       "        vertical-align: middle;\n",
       "    }\n",
       "\n",
       "    .dataframe tbody tr th {\n",
       "        vertical-align: top;\n",
       "    }\n",
       "\n",
       "    .dataframe thead th {\n",
       "        text-align: right;\n",
       "    }\n",
       "</style>\n",
       "<table border=\"1\" class=\"dataframe\">\n",
       "  <thead>\n",
       "    <tr style=\"text-align: right;\">\n",
       "      <th></th>\n",
       "      <th>legs</th>\n",
       "    </tr>\n",
       "  </thead>\n",
       "  <tbody>\n",
       "    <tr>\n",
       "      <th>53</th>\n",
       "      <td>8.0</td>\n",
       "    </tr>\n",
       "    <tr>\n",
       "      <th>72</th>\n",
       "      <td>8.0</td>\n",
       "    </tr>\n",
       "  </tbody>\n",
       "</table>\n",
       "</div>"
      ],
      "text/plain": [
       "    legs\n",
       "53   8.0\n",
       "72   8.0"
      ]
     },
     "execution_count": 12,
     "metadata": {},
     "output_type": "execute_result"
    }
   ],
   "source": [
    "# Identify the first quartile (25th percentile) for numerical columns\n",
    "Q1 = zoo[num_cols].quantile(0.25)\n",
    "\n",
    "# Identify the third quartile (75th percentile) for numerical columns\n",
    "Q3 = zoo[num_cols].quantile(0.75)\n",
    "\n",
    "# Calculate the Interquartile Range (IQR) as the difference between Q3 and Q1\n",
    "IQR = Q3 - Q1\n",
    "\n",
    "# Determine the lower and upper whisker boundaries for detecting outliers\n",
    "lower_whisker = Q1 - (1.5 * IQR)\n",
    "upper_whisker = Q3 + (1.5 * IQR)\n",
    "\n",
    "# Identify outlier values that fall outside the whisker boundaries\n",
    "outliers = zoo[num_cols][(zoo[num_cols] < lower_whisker) | (zoo[num_cols] > upper_whisker)]\n",
    "\n",
    "# Drop rows where all columns are NaN from the outliers DataFrame\n",
    "outlier_rows = outliers.dropna(how='all')\n",
    "\n",
    "# Count the number of outlier observations\n",
    "num_of_outliers = outlier_rows.shape[0]\n",
    "\n",
    "# Print the calculated quartiles, IQR, boundaries, and the number of outliers\n",
    "print(f\"Q1:\\n{Q1}\\n\")\n",
    "print(f\"Q3:\\n{Q3}\\n\")\n",
    "print(f\"IQR:\\n{IQR}\\n\")\n",
    "print(f\"Lower Bound:\\n{lower_whisker}\\n\")\n",
    "print(f\"Upper Bound:\\n{upper_whisker}\\n\")\n",
    "print(f\"Number of Outlier Observations: {num_of_outliers}\")\n",
    "\n",
    "# Display the rows of the DataFrame that are considered outliers\n",
    "outlier_rows"
   ]
  },
  {
   "cell_type": "code",
   "execution_count": 13,
   "id": "463f97df-c258-43da-9cc7-4c9ca23aef2f",
   "metadata": {},
   "outputs": [],
   "source": [
    "# Drop the \"type\" column from the DataFrame 'zoo' to create feature set 'X'\n",
    "X = zoo.drop([\"type\"], axis=1)\n",
    "\n",
    "# Select the \"type\" column from the DataFrame 'zoo' as the target variable 'y'\n",
    "y = zoo[\"type\"]"
   ]
  },
  {
   "cell_type": "code",
   "execution_count": 14,
   "id": "389df844-cc80-41db-b7b9-5748fd48ec7c",
   "metadata": {},
   "outputs": [
    {
     "data": {
      "text/html": [
       "<div>\n",
       "<style scoped>\n",
       "    .dataframe tbody tr th:only-of-type {\n",
       "        vertical-align: middle;\n",
       "    }\n",
       "\n",
       "    .dataframe tbody tr th {\n",
       "        vertical-align: top;\n",
       "    }\n",
       "\n",
       "    .dataframe thead th {\n",
       "        text-align: right;\n",
       "    }\n",
       "</style>\n",
       "<table border=\"1\" class=\"dataframe\">\n",
       "  <thead>\n",
       "    <tr style=\"text-align: right;\">\n",
       "      <th></th>\n",
       "      <th>hair</th>\n",
       "      <th>feathers</th>\n",
       "      <th>eggs</th>\n",
       "      <th>milk</th>\n",
       "      <th>airborne</th>\n",
       "      <th>aquatic</th>\n",
       "      <th>predator</th>\n",
       "      <th>toothed</th>\n",
       "      <th>backbone</th>\n",
       "      <th>breathes</th>\n",
       "      <th>venomous</th>\n",
       "      <th>fins</th>\n",
       "      <th>legs</th>\n",
       "      <th>tail</th>\n",
       "      <th>domestic</th>\n",
       "      <th>catsize</th>\n",
       "    </tr>\n",
       "  </thead>\n",
       "  <tbody>\n",
       "    <tr>\n",
       "      <th>0</th>\n",
       "      <td>1</td>\n",
       "      <td>0</td>\n",
       "      <td>0</td>\n",
       "      <td>1</td>\n",
       "      <td>0</td>\n",
       "      <td>0</td>\n",
       "      <td>1</td>\n",
       "      <td>1</td>\n",
       "      <td>1</td>\n",
       "      <td>1</td>\n",
       "      <td>0</td>\n",
       "      <td>0</td>\n",
       "      <td>4</td>\n",
       "      <td>0</td>\n",
       "      <td>0</td>\n",
       "      <td>1</td>\n",
       "    </tr>\n",
       "    <tr>\n",
       "      <th>1</th>\n",
       "      <td>1</td>\n",
       "      <td>0</td>\n",
       "      <td>0</td>\n",
       "      <td>1</td>\n",
       "      <td>0</td>\n",
       "      <td>0</td>\n",
       "      <td>0</td>\n",
       "      <td>1</td>\n",
       "      <td>1</td>\n",
       "      <td>1</td>\n",
       "      <td>0</td>\n",
       "      <td>0</td>\n",
       "      <td>4</td>\n",
       "      <td>1</td>\n",
       "      <td>0</td>\n",
       "      <td>1</td>\n",
       "    </tr>\n",
       "    <tr>\n",
       "      <th>2</th>\n",
       "      <td>0</td>\n",
       "      <td>0</td>\n",
       "      <td>1</td>\n",
       "      <td>0</td>\n",
       "      <td>0</td>\n",
       "      <td>1</td>\n",
       "      <td>1</td>\n",
       "      <td>1</td>\n",
       "      <td>1</td>\n",
       "      <td>0</td>\n",
       "      <td>0</td>\n",
       "      <td>1</td>\n",
       "      <td>0</td>\n",
       "      <td>1</td>\n",
       "      <td>0</td>\n",
       "      <td>0</td>\n",
       "    </tr>\n",
       "    <tr>\n",
       "      <th>3</th>\n",
       "      <td>1</td>\n",
       "      <td>0</td>\n",
       "      <td>0</td>\n",
       "      <td>1</td>\n",
       "      <td>0</td>\n",
       "      <td>0</td>\n",
       "      <td>1</td>\n",
       "      <td>1</td>\n",
       "      <td>1</td>\n",
       "      <td>1</td>\n",
       "      <td>0</td>\n",
       "      <td>0</td>\n",
       "      <td>4</td>\n",
       "      <td>0</td>\n",
       "      <td>0</td>\n",
       "      <td>1</td>\n",
       "    </tr>\n",
       "    <tr>\n",
       "      <th>4</th>\n",
       "      <td>1</td>\n",
       "      <td>0</td>\n",
       "      <td>0</td>\n",
       "      <td>1</td>\n",
       "      <td>0</td>\n",
       "      <td>0</td>\n",
       "      <td>1</td>\n",
       "      <td>1</td>\n",
       "      <td>1</td>\n",
       "      <td>1</td>\n",
       "      <td>0</td>\n",
       "      <td>0</td>\n",
       "      <td>4</td>\n",
       "      <td>1</td>\n",
       "      <td>0</td>\n",
       "      <td>1</td>\n",
       "    </tr>\n",
       "  </tbody>\n",
       "</table>\n",
       "</div>"
      ],
      "text/plain": [
       "  hair feathers eggs milk airborne aquatic predator toothed backbone breathes  \\\n",
       "0    1        0    0    1        0       0        1       1        1        1   \n",
       "1    1        0    0    1        0       0        0       1        1        1   \n",
       "2    0        0    1    0        0       1        1       1        1        0   \n",
       "3    1        0    0    1        0       0        1       1        1        1   \n",
       "4    1        0    0    1        0       0        1       1        1        1   \n",
       "\n",
       "  venomous fins  legs tail domestic catsize  \n",
       "0        0    0     4    0        0       1  \n",
       "1        0    0     4    1        0       1  \n",
       "2        0    1     0    1        0       0  \n",
       "3        0    0     4    0        0       1  \n",
       "4        0    0     4    1        0       1  "
      ]
     },
     "execution_count": 14,
     "metadata": {},
     "output_type": "execute_result"
    }
   ],
   "source": [
    "# Display the first few rows of the feature set 'X'\n",
    "X.head()"
   ]
  },
  {
   "cell_type": "code",
   "execution_count": 15,
   "id": "e13e431b-5991-4bb2-980b-24386a49abff",
   "metadata": {},
   "outputs": [
    {
     "data": {
      "text/plain": [
       "0    1\n",
       "1    1\n",
       "2    4\n",
       "3    1\n",
       "4    1\n",
       "Name: type, dtype: category\n",
       "Categories (7, int64): [1, 2, 3, 4, 5, 6, 7]"
      ]
     },
     "execution_count": 15,
     "metadata": {},
     "output_type": "execute_result"
    }
   ],
   "source": [
    "# Display the first few rows of the target variable 'y'\n",
    "y.head()"
   ]
  },
  {
   "cell_type": "markdown",
   "id": "3bd260cf-6d24-42b5-af79-cc5750e7c27c",
   "metadata": {},
   "source": [
    "### 3. Split the dataset into training and testing sets (80% training, 20% testing)."
   ]
  },
  {
   "cell_type": "code",
   "execution_count": 16,
   "id": "1a1ad073-5484-401e-9292-c564463cea14",
   "metadata": {},
   "outputs": [
    {
     "name": "stdout",
     "output_type": "stream",
     "text": [
      " X Train :  (80, 16)\n",
      " X Test  :  (21, 16)\n",
      " y Train :  (80,)\n",
      " y Test  :  (21,)\n"
     ]
    }
   ],
   "source": [
    "# Import the train_test_split function from sklearn to split the dataset into training and testing sets\n",
    "from sklearn.model_selection import train_test_split\n",
    "\n",
    "# Split the feature set 'X' and target variable 'y' into training and testing sets\n",
    "# 20% of the data is used for testing, with stratification based on 'y' to maintain class proportions\n",
    "# random_state is set to 107 for reproducibility\n",
    "X_train, X_test, y_train, y_test = train_test_split(X, y, test_size=0.2, stratify=y, random_state=107)\n",
    "\n",
    "# Print the shape of the training set for features (X_train)\n",
    "print(\" X Train : \", X_train.shape)\n",
    "\n",
    "# Print the shape of the testing set for features (X_test)\n",
    "print(\" X Test  : \", X_test.shape)\n",
    "\n",
    "# Print the shape of the training set for the target variable (y_train)\n",
    "print(\" y Train : \", y_train.shape)\n",
    "\n",
    "# Print the shape of the testing set for the target variable (y_test)\n",
    "print(\" y Test  : \", y_test.shape)"
   ]
  },
  {
   "cell_type": "markdown",
   "id": "9f5ad153-1716-4bef-b4fe-cec4c1b17899",
   "metadata": {},
   "source": [
    "### 4. Implement the K-Nearest Neighbours algorithm using a machine learning library like scikit-learn On training dataset"
   ]
  },
  {
   "cell_type": "code",
   "execution_count": 17,
   "id": "8166e702-2af3-4162-b39c-079e246060f8",
   "metadata": {},
   "outputs": [
    {
     "data": {
      "text/html": [
       "<style>#sk-container-id-1 {color: black;background-color: white;}#sk-container-id-1 pre{padding: 0;}#sk-container-id-1 div.sk-toggleable {background-color: white;}#sk-container-id-1 label.sk-toggleable__label {cursor: pointer;display: block;width: 100%;margin-bottom: 0;padding: 0.3em;box-sizing: border-box;text-align: center;}#sk-container-id-1 label.sk-toggleable__label-arrow:before {content: \"▸\";float: left;margin-right: 0.25em;color: #696969;}#sk-container-id-1 label.sk-toggleable__label-arrow:hover:before {color: black;}#sk-container-id-1 div.sk-estimator:hover label.sk-toggleable__label-arrow:before {color: black;}#sk-container-id-1 div.sk-toggleable__content {max-height: 0;max-width: 0;overflow: hidden;text-align: left;background-color: #f0f8ff;}#sk-container-id-1 div.sk-toggleable__content pre {margin: 0.2em;color: black;border-radius: 0.25em;background-color: #f0f8ff;}#sk-container-id-1 input.sk-toggleable__control:checked~div.sk-toggleable__content {max-height: 200px;max-width: 100%;overflow: auto;}#sk-container-id-1 input.sk-toggleable__control:checked~label.sk-toggleable__label-arrow:before {content: \"▾\";}#sk-container-id-1 div.sk-estimator input.sk-toggleable__control:checked~label.sk-toggleable__label {background-color: #d4ebff;}#sk-container-id-1 div.sk-label input.sk-toggleable__control:checked~label.sk-toggleable__label {background-color: #d4ebff;}#sk-container-id-1 input.sk-hidden--visually {border: 0;clip: rect(1px 1px 1px 1px);clip: rect(1px, 1px, 1px, 1px);height: 1px;margin: -1px;overflow: hidden;padding: 0;position: absolute;width: 1px;}#sk-container-id-1 div.sk-estimator {font-family: monospace;background-color: #f0f8ff;border: 1px dotted black;border-radius: 0.25em;box-sizing: border-box;margin-bottom: 0.5em;}#sk-container-id-1 div.sk-estimator:hover {background-color: #d4ebff;}#sk-container-id-1 div.sk-parallel-item::after {content: \"\";width: 100%;border-bottom: 1px solid gray;flex-grow: 1;}#sk-container-id-1 div.sk-label:hover label.sk-toggleable__label {background-color: #d4ebff;}#sk-container-id-1 div.sk-serial::before {content: \"\";position: absolute;border-left: 1px solid gray;box-sizing: border-box;top: 0;bottom: 0;left: 50%;z-index: 0;}#sk-container-id-1 div.sk-serial {display: flex;flex-direction: column;align-items: center;background-color: white;padding-right: 0.2em;padding-left: 0.2em;position: relative;}#sk-container-id-1 div.sk-item {position: relative;z-index: 1;}#sk-container-id-1 div.sk-parallel {display: flex;align-items: stretch;justify-content: center;background-color: white;position: relative;}#sk-container-id-1 div.sk-item::before, #sk-container-id-1 div.sk-parallel-item::before {content: \"\";position: absolute;border-left: 1px solid gray;box-sizing: border-box;top: 0;bottom: 0;left: 50%;z-index: -1;}#sk-container-id-1 div.sk-parallel-item {display: flex;flex-direction: column;z-index: 1;position: relative;background-color: white;}#sk-container-id-1 div.sk-parallel-item:first-child::after {align-self: flex-end;width: 50%;}#sk-container-id-1 div.sk-parallel-item:last-child::after {align-self: flex-start;width: 50%;}#sk-container-id-1 div.sk-parallel-item:only-child::after {width: 0;}#sk-container-id-1 div.sk-dashed-wrapped {border: 1px dashed gray;margin: 0 0.4em 0.5em 0.4em;box-sizing: border-box;padding-bottom: 0.4em;background-color: white;}#sk-container-id-1 div.sk-label label {font-family: monospace;font-weight: bold;display: inline-block;line-height: 1.2em;}#sk-container-id-1 div.sk-label-container {text-align: center;}#sk-container-id-1 div.sk-container {/* jupyter's `normalize.less` sets `[hidden] { display: none; }` but bootstrap.min.css set `[hidden] { display: none !important; }` so we also need the `!important` here to be able to override the default hidden behavior on the sphinx rendered scikit-learn.org. See: https://github.com/scikit-learn/scikit-learn/issues/21755 */display: inline-block !important;position: relative;}#sk-container-id-1 div.sk-text-repr-fallback {display: none;}</style><div id=\"sk-container-id-1\" class=\"sk-top-container\"><div class=\"sk-text-repr-fallback\"><pre>KNeighborsClassifier()</pre><b>In a Jupyter environment, please rerun this cell to show the HTML representation or trust the notebook. <br />On GitHub, the HTML representation is unable to render, please try loading this page with nbviewer.org.</b></div><div class=\"sk-container\" hidden><div class=\"sk-item\"><div class=\"sk-estimator sk-toggleable\"><input class=\"sk-toggleable__control sk-hidden--visually\" id=\"sk-estimator-id-1\" type=\"checkbox\" checked><label for=\"sk-estimator-id-1\" class=\"sk-toggleable__label sk-toggleable__label-arrow\">KNeighborsClassifier</label><div class=\"sk-toggleable__content\"><pre>KNeighborsClassifier()</pre></div></div></div></div></div>"
      ],
      "text/plain": [
       "KNeighborsClassifier()"
      ]
     },
     "execution_count": 17,
     "metadata": {},
     "output_type": "execute_result"
    }
   ],
   "source": [
    "# Import the KNeighborsClassifier class from sklearn for KNN classification\n",
    "from sklearn.neighbors import KNeighborsClassifier\n",
    "\n",
    "# Initialize a KNeighborsClassifier model with default parameters\n",
    "model_1 = KNeighborsClassifier()\n",
    "\n",
    "# Fit the KNN model on the training data (X_train and y_train)\n",
    "model_1 = model_1.fit(X_train, y_train)\n",
    "\n",
    "# Display the fitted KNN model\n",
    "model_1"
   ]
  },
  {
   "cell_type": "code",
   "execution_count": 18,
   "id": "aa4f76c0-182d-4334-870e-80d55c66d8fa",
   "metadata": {},
   "outputs": [
    {
     "data": {
      "text/plain": [
       "array([2, 1, 1, 5, 1, 2, 6, 6, 1, 6, 2, 7, 4, 2, 2, 1, 1, 2, 4, 1, 6, 3,\n",
       "       1, 2, 6, 7, 6, 1, 4, 1, 7, 1, 2, 4, 2, 4, 7, 2, 4, 1, 1, 5, 6, 1,\n",
       "       1, 4, 2, 1, 4, 1, 1, 2, 2, 1, 1, 7, 5, 1, 1, 1, 1, 7, 4, 2, 2, 4,\n",
       "       4, 2, 4, 1, 7, 1, 4, 4, 1, 1, 1, 1, 1, 1], dtype=int64)"
      ]
     },
     "execution_count": 18,
     "metadata": {},
     "output_type": "execute_result"
    }
   ],
   "source": [
    "# Predict the target variable values for the training set using the fitted KNN model\n",
    "y_train_preds_1 = model_1.predict(X_train)\n",
    "\n",
    "# Display the predicted target values for the training set\n",
    "y_train_preds_1"
   ]
  },
  {
   "cell_type": "code",
   "execution_count": 19,
   "id": "9727e9b5-edf8-4c40-a4a3-81e4e3262941",
   "metadata": {},
   "outputs": [
    {
     "data": {
      "text/plain": [
       "array([4, 1, 1, 2, 1, 2, 6, 1, 7, 2, 1, 6, 4, 1, 5, 1, 1, 7, 4, 2, 1],\n",
       "      dtype=int64)"
      ]
     },
     "execution_count": 19,
     "metadata": {},
     "output_type": "execute_result"
    }
   ],
   "source": [
    "# Predict the target variable values for the test set using the fitted KNN model\n",
    "y_test_preds_1 = model_1.predict(X_test)\n",
    "\n",
    "# Display the predicted target values for the test set\n",
    "y_test_preds_1"
   ]
  },
  {
   "cell_type": "code",
   "execution_count": 20,
   "id": "3f50caf2-dd3d-4fd3-b4b9-7328d3166649",
   "metadata": {},
   "outputs": [
    {
     "name": "stdout",
     "output_type": "stream",
     "text": [
      "******* Training Metrics *******\n",
      "KNN Accuracy: 0.9250\n",
      "KNN Recall: 0.9250\n",
      "KNN Precision: 0.9250\n",
      "KNN F1 Score: 0.9250\n",
      "\n",
      "******* Testing Metrics *******\n",
      "KNN Accuracy: 0.9524\n",
      "KNN Recall: 0.9524\n",
      "KNN Precision: 0.9524\n",
      "KNN F1 Score: 0.9524\n"
     ]
    }
   ],
   "source": [
    "# Import necessary evaluation metrics from sklearn\n",
    "from sklearn.metrics import accuracy_score, recall_score, precision_score, f1_score\n",
    "\n",
    "# Evaluate the model's performance on the training data\n",
    "knn_train_accuracy = accuracy_score(y_train, y_train_preds_1)  # Calculate accuracy\n",
    "knn_train_recall = recall_score(y_train, y_train_preds_1, average=\"micro\")  # Calculate recall\n",
    "knn_train_precision = precision_score(y_train, y_train_preds_1, average=\"micro\")  # Calculate precision\n",
    "knn_train_f1_score = f1_score(y_train, y_train_preds_1, average=\"micro\")  # Calculate F1 score\n",
    "\n",
    "# Evaluate the model's performance on the testing data\n",
    "knn_test_accuracy = accuracy_score(y_test, y_test_preds_1)  # Calculate accuracy\n",
    "knn_test_recall = recall_score(y_test, y_test_preds_1, average=\"micro\")  # Calculate recall\n",
    "knn_test_precision = precision_score(y_test, y_test_preds_1, average=\"micro\")  # Calculate precision\n",
    "knn_test_f1_score = f1_score(y_test, y_test_preds_1, average=\"micro\")  # Calculate F1 score\n",
    "\n",
    "# Print the evaluation metrics for the training set\n",
    "print(\"******* Training Metrics *******\")\n",
    "print(f\"KNN Accuracy: {knn_train_accuracy:.4f}\")\n",
    "print(f\"KNN Recall: {knn_train_recall:.4f}\")\n",
    "print(f\"KNN Precision: {knn_train_precision:.4f}\")\n",
    "print(f\"KNN F1 Score: {knn_train_f1_score:.4f}\")\n",
    "\n",
    "# Print the evaluation metrics for the test set\n",
    "print(\"\\n******* Testing Metrics *******\")\n",
    "print(f\"KNN Accuracy: {knn_test_accuracy:.4f}\")\n",
    "print(f\"KNN Recall: {knn_test_recall:.4f}\")\n",
    "print(f\"KNN Precision: {knn_test_precision:.4f}\")\n",
    "print(f\"KNN F1 Score: {knn_test_f1_score:.4f}\")"
   ]
  },
  {
   "cell_type": "markdown",
   "id": "f4bc1600-fd06-4f2e-8e55-91ca147d9790",
   "metadata": {},
   "source": [
    "### 5. Choose an appropriate distance metric and value for K.\r\n"
   ]
  },
  {
   "cell_type": "code",
   "execution_count": 21,
   "id": "53e065a9-a4ba-4f12-8b13-c09aa5d2a517",
   "metadata": {},
   "outputs": [],
   "source": [
    "# Define a range of K values to try for the KNN classifier (from 1 to 20)\n",
    "k_values = range(1, 21)\n",
    "\n",
    "# Initialize empty lists to store the accuracy results for training and testing sets\n",
    "train_accuracies = []\n",
    "test_accuracies = []"
   ]
  },
  {
   "cell_type": "markdown",
   "id": "2ac50430-a53f-4e04-910b-9f722493a6d2",
   "metadata": {},
   "source": [
    "### 6. Evaluate the classifier's performance on the testing set using accuracy, precision, recall, and F1-score metrics."
   ]
  },
  {
   "cell_type": "code",
   "execution_count": 22,
   "id": "f7888d0a-1bcc-45a8-8dd5-df8b2f1ef857",
   "metadata": {},
   "outputs": [
    {
     "name": "stdout",
     "output_type": "stream",
     "text": [
      "K = 1:\n",
      "  Training Accuracy: 1.0000\n",
      "  Testing Accuracy: 0.9524\n",
      "\n",
      "K = 2:\n",
      "  Training Accuracy: 0.9750\n",
      "  Testing Accuracy: 0.9524\n",
      "\n",
      "K = 3:\n",
      "  Training Accuracy: 0.9750\n",
      "  Testing Accuracy: 0.9524\n",
      "\n",
      "K = 4:\n",
      "  Training Accuracy: 0.9625\n",
      "  Testing Accuracy: 0.9524\n",
      "\n",
      "K = 5:\n",
      "  Training Accuracy: 0.9250\n",
      "  Testing Accuracy: 0.9524\n",
      "\n",
      "K = 6:\n",
      "  Training Accuracy: 0.8875\n",
      "  Testing Accuracy: 0.8571\n",
      "\n",
      "K = 7:\n",
      "  Training Accuracy: 0.8875\n",
      "  Testing Accuracy: 0.7619\n",
      "\n",
      "K = 8:\n",
      "  Training Accuracy: 0.8250\n",
      "  Testing Accuracy: 0.7619\n",
      "\n",
      "K = 9:\n",
      "  Training Accuracy: 0.8125\n",
      "  Testing Accuracy: 0.7619\n",
      "\n",
      "K = 10:\n",
      "  Training Accuracy: 0.8125\n",
      "  Testing Accuracy: 0.7619\n",
      "\n",
      "K = 11:\n",
      "  Training Accuracy: 0.8000\n",
      "  Testing Accuracy: 0.7619\n",
      "\n",
      "K = 12:\n",
      "  Training Accuracy: 0.8000\n",
      "  Testing Accuracy: 0.7619\n",
      "\n",
      "K = 13:\n",
      "  Training Accuracy: 0.8000\n",
      "  Testing Accuracy: 0.7619\n",
      "\n",
      "K = 14:\n",
      "  Training Accuracy: 0.7875\n",
      "  Testing Accuracy: 0.7619\n",
      "\n",
      "K = 15:\n",
      "  Training Accuracy: 0.7875\n",
      "  Testing Accuracy: 0.7619\n",
      "\n",
      "K = 16:\n",
      "  Training Accuracy: 0.7875\n",
      "  Testing Accuracy: 0.7619\n",
      "\n",
      "K = 17:\n",
      "  Training Accuracy: 0.7875\n",
      "  Testing Accuracy: 0.7619\n",
      "\n",
      "K = 18:\n",
      "  Training Accuracy: 0.7875\n",
      "  Testing Accuracy: 0.7619\n",
      "\n",
      "K = 19:\n",
      "  Training Accuracy: 0.7875\n",
      "  Testing Accuracy: 0.7619\n",
      "\n",
      "K = 20:\n",
      "  Training Accuracy: 0.7625\n",
      "  Testing Accuracy: 0.7619\n",
      "\n"
     ]
    }
   ],
   "source": [
    "# Loop over K values and evaluate the KNN model for each K\n",
    "for k in k_values:\n",
    "    # Initialize the KNN classifier with the current K value\n",
    "    knn_model = KNeighborsClassifier(n_neighbors=k)\n",
    "    \n",
    "    # Train the KNN model on the training data\n",
    "    knn_model.fit(X_train, y_train)\n",
    "    \n",
    "    # Make predictions on both the training and testing data\n",
    "    y_train_preds_knn = knn_model.predict(X_train)\n",
    "    y_test_preds_knn = knn_model.predict(X_test)\n",
    "    \n",
    "    # Calculate the accuracy for the training set\n",
    "    train_accuracy = accuracy_score(y_train, y_train_preds_knn)\n",
    "    \n",
    "    # Calculate the accuracy for the testing set\n",
    "    test_accuracy = accuracy_score(y_test, y_test_preds_knn)\n",
    "    \n",
    "    # Append the training and testing accuracy to the respective lists\n",
    "    train_accuracies.append(train_accuracy)\n",
    "    test_accuracies.append(test_accuracy)\n",
    "    \n",
    "    # Print the results for the current value of K\n",
    "    print(f\"K = {k}:\")\n",
    "    print(f\"  Training Accuracy: {train_accuracy:.4f}\")\n",
    "    print(f\"  Testing Accuracy: {test_accuracy:.4f}\")\n",
    "    print()"
   ]
  },
  {
   "cell_type": "markdown",
   "id": "b72e942f-4b92-4c00-9a87-12a4401f19f2",
   "metadata": {},
   "source": [
    "### 7. Visualize the decision boundaries of the classifier."
   ]
  },
  {
   "cell_type": "code",
   "execution_count": 23,
   "id": "84917194-67e9-4c44-9b63-3df09898ffa8",
   "metadata": {},
   "outputs": [
    {
     "data": {
      "image/png": "[encoded data removed]",
      "text/plain": [
       "<Figure size 1000x600 with 1 Axes>"
      ]
     },
     "metadata": {},
     "output_type": "display_data"
    }
   ],
   "source": [
    "# Plotting the accuracy results for different values of K\n",
    "import matplotlib.pyplot as plt\n",
    "\n",
    "plt.figure(figsize=(10, 6))\n",
    "plt.plot(k_values, train_accuracies, label='Training Accuracy', marker='o')\n",
    "plt.plot(k_values, test_accuracies, label='Testing Accuracy', marker='s')\n",
    "plt.title('K-Nearest Neighbors Accuracy for Different K Values')\n",
    "plt.xlabel('K Value')\n",
    "plt.ylabel('Accuracy')\n",
    "plt.legend()\n",
    "plt.grid(True)\n",
    "plt.show()"
   ]
  },
  {
   "cell_type": "markdown",
   "id": "574995a4-9f26-431b-8f89-0dabaa7c9a54",
   "metadata": {},
   "source": [
    "## Interview Questions:"
   ]
  },
  {
   "cell_type": "markdown",
   "id": "b236fbf1-419e-4bb5-b32e-169c087496fc",
   "metadata": {},
   "source": [
    "### 1. What are the key hyperparameters in KNN?"
   ]
  },
  {
   "cell_type": "markdown",
   "id": "ee1547ce-8e36-494e-af0a-3fb8ee38ea57",
   "metadata": {},
   "source": [
    "Key hyperparameters in KNN:\n",
    "\n",
    "1. k (Number of Neighbors): Determines how many neighbors to consider for voting or averaging.\n",
    "2. Distance Metric: Defines how to measure the distance between points (e.g., Euclidean, Manhattan).\n",
    "3. Weights: Determines if all neighbors are equally weighted or closer ones have more influence.\n",
    "4. Algorithm: Chooses the method for finding nearest neighbors (e.g., brute-force, KD Tree).\n",
    "5. Leaf Size: Controls the size of the leaf in tree-based search algorithms, affecting speed and memory.\n",
    "6. p (Minkowski Parameter): Defines the power for the Minkowski distance, generalizing Euclidean (p=2) and Manhattan (p=1)."
   ]
  },
  {
   "cell_type": "markdown",
   "id": "d7849122-25f9-41a3-bbb9-5d473471d33d",
   "metadata": {},
   "source": [
    "### 2. What distance metrics can be used in KNN?"
   ]
  },
  {
   "cell_type": "markdown",
   "id": "ef6ce7bb-79e4-4700-8d48-f61d7c2cc29b",
   "metadata": {},
   "source": [
    "Distance metrics used in KNN:\n",
    "\n",
    "1. Euclidean Distance: Measures straight-line distance between points.\n",
    "2. Manhattan Distance: Measures distance along the axes (city block distance).\n",
    "3. Minkowski Distance: Generalizes Euclidean and Manhattan distance.\n",
    "4. Chebyshev Distance: Measures the maximum absolute difference along any coordinate.\n",
    "5. Hamming Distance: Used for categorical or binary data.\n",
    "6. Cosine Distance: Measures the angle between two vectors, often used for high-dimensional data.\n",
    "7. Mahalanobis Distance: Accounts for correlations between variables.\n",
    "8. Jaccard Distance: Measures dissimilarity between sets, used for binary data."
   ]
  }
 ],
 "metadata": {
  "kernelspec": {
   "display_name": "Python 3 (ipykernel)",
   "language": "python",
   "name": "python3"
  },
  "language_info": {
   "codemirror_mode": {
    "name": "ipython",
    "version": 3
   },
   "file_extension": ".py",
   "mimetype": "text/x-python",
   "name": "python",
   "nbconvert_exporter": "python",
   "pygments_lexer": "ipython3",
   "version": "3.11.7"
  }
 },
 "nbformat": 4,
 "nbformat_minor": 5
}
