{
 "cells": [
  {
   "cell_type": "markdown",
   "id": "b11771c7-61b7-4d62-8b40-f55c70ae1294",
   "metadata": {},
   "source": [
    "### Exercise 1: Prime Numbers\n",
    "#### Write a Python program that checks whether a given number is prime or not. A prime number is a natural number greater than 1 that has no positive divisors other than 1 and itself."
   ]
  },
  {
   "cell_type": "code",
   "execution_count": 13,
   "id": "613d07fa-a726-41a9-b728-a4a6f463aeb5",
   "metadata": {},
   "outputs": [
    {
     "name": "stdin",
     "output_type": "stream",
     "text": [
      "Enter number 4\n"
     ]
    },
    {
     "name": "stdout",
     "output_type": "stream",
     "text": [
      "It is not a Prime number\n"
     ]
    }
   ],
   "source": [
    "n = int(input(\"Enter number\"))\n",
    "if n >= 1:\n",
    "    for i in range(2, int(n**0.5) + 1):\n",
    "        if n % i == 0:\n",
    "            print(\"It is not a Prime number\")\n",
    "        else:\n",
    "            print(\"It is a Prime number\")\n",
    "else:\n",
    "    print(\"It is not a Prime\")"
   ]
  },
  {
   "cell_type": "markdown",
   "id": "9d2512d8-83f1-4275-8b58-db4e32d8997c",
   "metadata": {},
   "source": [
    "### Exercise 2: Product of Random Numbers\n",
    "#### Develop a Python program that generates two random numbers and asks the user to enter the product of these numbers. The program should then check if the user's answer is correct and display an appropriate message."
   ]
  },
  {
   "cell_type": "code",
   "execution_count": 29,
   "id": "92865155-d552-4db3-9c6a-8a430ac339cf",
   "metadata": {},
   "outputs": [
    {
     "name": "stdin",
     "output_type": "stream",
     "text": [
      "Enter the Product of these 9 and 16 numbers  144\n"
     ]
    },
    {
     "name": "stdout",
     "output_type": "stream",
     "text": [
      "Well done! It's a corect answer\n"
     ]
    }
   ],
   "source": [
    "import random\n",
    "\n",
    "num_1 = random.randint(1, 20)\n",
    "num_2 = random.randint(1, 20)\n",
    "\n",
    "answer = num_1 * num_2\n",
    "\n",
    "user_answer = int(input(f\"Enter the Product of these {num_1} and {num_2} numbers \"))\n",
    "\n",
    "if user_answer == answer:\n",
    "    print(\"Well done! It's a corect answer\")\n",
    "else:\n",
    "    print(\"Incorrect. The answer is \", answer)"
   ]
  },
  {
   "cell_type": "markdown",
   "id": "d6b661f0-6232-46a8-9bcc-ba300a66f256",
   "metadata": {},
   "source": [
    "### Exercise 3: Squares of Even/Odd Numbers\n",
    "#### Create a Python script that prints the squares of all even or odd numbers within the range of 100 to 200. Choose either even or odd numbers and document your choice in the code."
   ]
  },
  {
   "cell_type": "code",
   "execution_count": 68,
   "id": "f50cbc3b-0d08-4c9f-bc05-5e5f8cd5f79d",
   "metadata": {},
   "outputs": [
    {
     "name": "stdin",
     "output_type": "stream",
     "text": [
      "Enter what you want wheather EVEN or ODD :  even\n"
     ]
    },
    {
     "name": "stdout",
     "output_type": "stream",
     "text": [
      "Squares of Even numbers between 100 to 200\n",
      "         Square of 100 ---> 10000\n",
      "         Square of 102 ---> 10404\n",
      "         Square of 104 ---> 10816\n",
      "         Square of 106 ---> 11236\n",
      "         Square of 108 ---> 11664\n",
      "         Square of 110 ---> 12100\n",
      "         Square of 112 ---> 12544\n",
      "         Square of 114 ---> 12996\n",
      "         Square of 116 ---> 13456\n",
      "         Square of 118 ---> 13924\n",
      "         Square of 120 ---> 14400\n",
      "         Square of 122 ---> 14884\n",
      "         Square of 124 ---> 15376\n",
      "         Square of 126 ---> 15876\n",
      "         Square of 128 ---> 16384\n",
      "         Square of 130 ---> 16900\n",
      "         Square of 132 ---> 17424\n",
      "         Square of 134 ---> 17956\n",
      "         Square of 136 ---> 18496\n",
      "         Square of 138 ---> 19044\n",
      "         Square of 140 ---> 19600\n",
      "         Square of 142 ---> 20164\n",
      "         Square of 144 ---> 20736\n",
      "         Square of 146 ---> 21316\n",
      "         Square of 148 ---> 21904\n",
      "         Square of 150 ---> 22500\n",
      "         Square of 152 ---> 23104\n",
      "         Square of 154 ---> 23716\n",
      "         Square of 156 ---> 24336\n",
      "         Square of 158 ---> 24964\n",
      "         Square of 160 ---> 25600\n",
      "         Square of 162 ---> 26244\n",
      "         Square of 164 ---> 26896\n",
      "         Square of 166 ---> 27556\n",
      "         Square of 168 ---> 28224\n",
      "         Square of 170 ---> 28900\n",
      "         Square of 172 ---> 29584\n",
      "         Square of 174 ---> 30276\n",
      "         Square of 176 ---> 30976\n",
      "         Square of 178 ---> 31684\n",
      "         Square of 180 ---> 32400\n",
      "         Square of 182 ---> 33124\n",
      "         Square of 184 ---> 33856\n",
      "         Square of 186 ---> 34596\n",
      "         Square of 188 ---> 35344\n",
      "         Square of 190 ---> 36100\n",
      "         Square of 192 ---> 36864\n",
      "         Square of 194 ---> 37636\n",
      "         Square of 196 ---> 38416\n",
      "         Square of 198 ---> 39204\n",
      "         Square of 200 ---> 40000\n"
     ]
    }
   ],
   "source": [
    "choose = input(\"Enter what you want wheather EVEN or ODD : \")\n",
    "choose = choose.lower()\n",
    "if choose == \"even\":\n",
    "    print(\"Squares of Even numbers between 100 to 200\")\n",
    "    for i in range(100, 201):\n",
    "        if i % 2 == 0:\n",
    "            even_squares = i**2\n",
    "            print(f\"         Square of {i} ---> {even_squares}\")\n",
    "else:\n",
    "    print(\"Squares of Odd numbers between 100 to 200\")\n",
    "    for i in range(100, 201):\n",
    "        if i % 2 != 0:\n",
    "            odd_squares = i**2\n",
    "            print(f\"         Square of {i} ---> {odd_squares}\")"
   ]
  },
  {
   "cell_type": "markdown",
   "id": "5dc895a7-af7f-4a64-8fd6-eaf9d12bd4d9",
   "metadata": {},
   "source": [
    "### Exercise 4: Word counter\n",
    "#### write a program to count the number of words in a given text."
   ]
  },
  {
   "cell_type": "code",
   "execution_count": 81,
   "id": "486ce6d9-b515-4088-bb32-869e18ec5d21",
   "metadata": {},
   "outputs": [
    {
     "name": "stdin",
     "output_type": "stream",
     "text": [
      "Enter any Sentence This is a sample text. This text will be used to demonstrate the word counter\n"
     ]
    },
    {
     "name": "stdout",
     "output_type": "stream",
     "text": [
      "This : 2\n",
      "is : 1\n",
      "a : 1\n",
      "sample : 1\n",
      "text. : 1\n",
      "text : 1\n",
      "will : 1\n",
      "be : 1\n",
      "used : 1\n",
      "to : 1\n",
      "demonstrate : 1\n",
      "the : 1\n",
      "word : 1\n",
      "counter : 1\n"
     ]
    }
   ],
   "source": [
    "from collections import Counter\n",
    "sentence = input(\"Enter any Sentence\")\n",
    "words = sentence.split()\n",
    "counts = Counter(words)\n",
    "for i, counts in counts.items():\n",
    "    print(f\"{i} : {counts}\")"
   ]
  },
  {
   "cell_type": "markdown",
   "id": "fc21a087-1558-4f99-9372-c0eaeb671337",
   "metadata": {},
   "source": [
    "### Exercise 5: Check for Palindrome\n",
    "#### Write a Python function called is_palindrome that takes a string as input and returns True if the string is a palindrome, and False otherwise. A palindrome is a word, phrase, number, or other sequence of characters that reads the same forward and backward, ignoring spaces, punctuation, and capitalization."
   ]
  },
  {
   "cell_type": "code",
   "execution_count": 90,
   "id": "cd48b25a-74c5-454a-a6b6-4e4cd92ae588",
   "metadata": {},
   "outputs": [
    {
     "data": {
      "text/plain": [
       "'racecar'"
      ]
     },
     "execution_count": 90,
     "metadata": {},
     "output_type": "execute_result"
    }
   ],
   "source": [
    "str_1 = \"racecar\"\n",
    "str_2 = str_1[::-1]\n",
    "str_2"
   ]
  },
  {
   "cell_type": "code",
   "execution_count": 96,
   "id": "2190b57a-7c05-4d5e-bf9c-4e56284ebc01",
   "metadata": {},
   "outputs": [],
   "source": [
    "def is_palindrome():\n",
    "    str_1 = input(\"Enter your String\")\n",
    "    str_2 = str_1[::-1]\n",
    "    str_3 = str_1.lower()\n",
    "    str_4 = str_2.lower()\n",
    "    if str_3 == str_4:\n",
    "        print(\"TRUE\")\n",
    "    else:\n",
    "        print(\"FALSE\")"
   ]
  },
  {
   "cell_type": "code",
   "execution_count": 99,
   "id": "f33d8923-6fe7-4f1c-b30f-a50fd812a223",
   "metadata": {},
   "outputs": [
    {
     "name": "stdin",
     "output_type": "stream",
     "text": [
      "Enter your String RacECAr\n"
     ]
    },
    {
     "name": "stdout",
     "output_type": "stream",
     "text": [
      "TRUE\n"
     ]
    }
   ],
   "source": [
    "is_palindrome()"
   ]
  },
  {
   "cell_type": "code",
   "execution_count": 100,
   "id": "b7e0895b-8e20-496a-bb51-8a5281d128d7",
   "metadata": {},
   "outputs": [
    {
     "name": "stdin",
     "output_type": "stream",
     "text": [
      "Enter your String THis\n"
     ]
    },
    {
     "name": "stdout",
     "output_type": "stream",
     "text": [
      "FALSE\n"
     ]
    }
   ],
   "source": [
    "is_palindrome()"
   ]
  },
  {
   "cell_type": "code",
   "execution_count": null,
   "id": "0a60c3a8-7c9a-4fc3-93c8-849ccb10fbb7",
   "metadata": {},
   "outputs": [],
   "source": []
  }
 ],
 "metadata": {
  "kernelspec": {
   "display_name": "Python 3 (ipykernel)",
   "language": "python",
   "name": "python3"
  },
  "language_info": {
   "codemirror_mode": {
    "name": "ipython",
    "version": 3
   },
   "file_extension": ".py",
   "mimetype": "text/x-python",
   "name": "python",
   "nbconvert_exporter": "python",
   "pygments_lexer": "ipython3",
   "version": "3.11.7"
  }
 },
 "nbformat": 4,
 "nbformat_minor": 5
}
