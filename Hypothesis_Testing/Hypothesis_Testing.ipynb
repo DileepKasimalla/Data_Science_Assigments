{
 "cells": [
  {
   "cell_type": "markdown",
   "id": "fa1d968c-3297-47c7-b5b6-fb68c2c50e82",
   "metadata": {},
   "source": [
    "## HYPOTHESIS TESTING"
   ]
  },
  {
   "cell_type": "markdown",
   "id": "04cd10c9-86f4-4828-bc1c-68c2522f2b94",
   "metadata": {},
   "source": [
    "### Background:\n",
    "#### Bombay hospitality Ltd. operates a franchise model for producing exotic Norwegian dinners throughout New England. The operating cost for a franchise in a week (W) is given by the equation W = $1,000 + $5X, where X represents the number of units produced in a week. Recent feedback from restaurant owners suggests that this cost model may no longer be accurate, as their observed weekly operating costs are higher.ts\r\n",
    "\r\n"
   ]
  },
  {
   "cell_type": "markdown",
   "id": "05b3ba72-f8cd-4e21-9a25-e031f4d897e7",
   "metadata": {},
   "source": [
    "### Objective:\n",
    "#### To investigate the restaurant owners' claim about the increase in weekly operating costs using hypothesis testing."
   ]
  },
  {
   "cell_type": "markdown",
   "id": "7b74ce75-944d-421e-ab40-82159a3c926a",
   "metadata": {},
   "source": [
    "### Data Provided:\n",
    "#### •\tThe theoretical weekly operating cost model: W = $1,000 + $5X\n",
    "#### •\tSample of 25 restaurants with a mean weekly cost of Rs. 3,050\n",
    "#### •\tNumber of units produced in a week (X) follows a normal distribution with a mean (μ) of 600 units and a standard deviation (σ) of 25 units"
   ]
  },
  {
   "cell_type": "markdown",
   "id": "65e99980-d429-4e4c-bb2a-459b3ad8c7c7",
   "metadata": {},
   "source": [
    "### Assignment Tasks:"
   ]
  },
  {
   "cell_type": "markdown",
   "id": "29da3749-6cbf-42f8-bd77-c0bdf2d5870f",
   "metadata": {},
   "source": [
    "### Step 1: State the Hypotheses Statement\n",
    "### Null Hypothesis (H₀): \n",
    "#### The theoretical weekly operating cost model is accurate.\n",
    "#### H0 : μ = $1000+$5X\n",
    "### Alternative Hypothesis (H₁): \n",
    "#### The observed weekly operating costs are higher than the theoretical model.​\n",
    "#### H1 : μ > $1000+$5X"
   ]
  },
  {
   "cell_type": "markdown",
   "id": "c350b271-b1ca-4650-b25f-b8eaa268553c",
   "metadata": {},
   "source": [
    "### Step 2: Calculate the Test Statistic\n",
    "#### We need to calculate the theoretical mean weekly cost (𝜇) according to the cost model:\n",
    "#### μ = 1000+5×600=4000 (Rs.)\n",
    "#### The test statistic (t) is calculated using the formula:\n",
    "#### t = ((x_bar - μ)/(σ/root(n)))\n",
    "\n",
    "### Where:\n",
    "#### x_bar = 3050 (sample mean weekly cost) \n",
    "#### μ    = 4000 (theoretical mean weekly cost)\n",
    "#### σ    = 5×25=125 (standard deviation of weekly costs)\n",
    "#### n    = 25 (sample size)"
   ]
  },
  {
   "cell_type": "code",
   "execution_count": 1,
   "id": "0a1c7eeb-9bc9-44fa-8c53-b5760cec6f12",
   "metadata": {},
   "outputs": [],
   "source": [
    "import math\n",
    "from scipy import stats"
   ]
  },
  {
   "cell_type": "code",
   "execution_count": 2,
   "id": "a92a9224-564d-476b-b092-e9731b54d0c2",
   "metadata": {},
   "outputs": [],
   "source": [
    "# Given values\n",
    "x_bar = 3050    # Sample mean weekly cost\n",
    "mu = 4000       # Theoretical mean weekly cost\n",
    "sigma = 125     # Standard deviation\n",
    "n = 25          # Sample size"
   ]
  },
  {
   "cell_type": "code",
   "execution_count": 3,
   "id": "9f0694aa-2e54-424c-82cf-2fc5aeef3172",
   "metadata": {},
   "outputs": [
    {
     "data": {
      "text/plain": [
       "-38.0"
      ]
     },
     "execution_count": 3,
     "metadata": {},
     "output_type": "execute_result"
    }
   ],
   "source": [
    "# Calculate the test statistic\n",
    "t = (x_bar - mu) / (sigma / math.sqrt(n))\n",
    "t"
   ]
  },
  {
   "cell_type": "markdown",
   "id": "7c0ef028-323e-4349-9997-105c190397c7",
   "metadata": {},
   "source": [
    "### Step 3: Determine the Critical Value\n",
    "#### Using the alpha level of 5% (α = 0.05) and the standard normal (Z) distribution table, the critical value for a one-tailed test is approximately 1.645."
   ]
  },
  {
   "cell_type": "code",
   "execution_count": 5,
   "id": "f21b0dfc-0854-4c6e-996f-2142c7226be2",
   "metadata": {},
   "outputs": [],
   "source": [
    "# Determine the critical value for a one-tailed test at alpha = 0.05\n",
    "alpha = 0.05\n",
    "critical_value = stats.norm.ppf(1 - alpha)"
   ]
  },
  {
   "cell_type": "markdown",
   "id": "47e3421c-82ac-4381-aeba-0e359360812a",
   "metadata": {},
   "source": [
    "### Step 4: Make a Decision\n",
    "#### Compare the test statistic with the critical value to decide whether to reject the null hypothesis."
   ]
  },
  {
   "cell_type": "code",
   "execution_count": 6,
   "id": "a32787d5-b992-400e-b7ea-387ea70672ab",
   "metadata": {},
   "outputs": [],
   "source": [
    "# Make a decision\n",
    "reject_null = t > critical_value"
   ]
  },
  {
   "cell_type": "markdown",
   "id": "cc8fc98a-e870-4179-a72d-4ba850dd0555",
   "metadata": {},
   "source": [
    "### Step 5: Conclusion\n",
    "#### Based on the decision in Step 4, conclude whether there is strong evidence to support the restaurant owners' claim that the weekly operating costs are higher than the model suggests."
   ]
  },
  {
   "cell_type": "code",
   "execution_count": 9,
   "id": "f806aad5-e405-4eb4-a521-27730e13e3fe",
   "metadata": {},
   "outputs": [
    {
     "data": {
      "text/plain": [
       "(-38.0,\n",
       " 1.6448536269514722,\n",
       " \"Fail to reject the null hypothesis. There is not enough evidence to support the restaurant owners' claim.\")"
      ]
     },
     "execution_count": 9,
     "metadata": {},
     "output_type": "execute_result"
    }
   ],
   "source": [
    "# Conclusion\n",
    "conclusion = \"R the null hypothesis. There is strong evidence to support the restaurant owners' claim.\" if reject_null else \"Fail to reject the null hypothesis. There is not enough evidence to support the restaurant owners' claim.\"\n",
    "\n",
    "t, critical_value, conclusion"
   ]
  },
  {
   "cell_type": "code",
   "execution_count": null,
   "id": "7e3857f7-cc4e-462d-b1cf-91e8b8ffd788",
   "metadata": {},
   "outputs": [],
   "source": []
  }
 ],
 "metadata": {
  "kernelspec": {
   "display_name": "Python 3 (ipykernel)",
   "language": "python",
   "name": "python3"
  },
  "language_info": {
   "codemirror_mode": {
    "name": "ipython",
    "version": 3
   },
   "file_extension": ".py",
   "mimetype": "text/x-python",
   "name": "python",
   "nbconvert_exporter": "python",
   "pygments_lexer": "ipython3",
   "version": "3.11.7"
  }
 },
 "nbformat": 4,
 "nbformat_minor": 5
}
