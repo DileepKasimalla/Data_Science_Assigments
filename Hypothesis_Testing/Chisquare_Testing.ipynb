{
 "cells": [
  {
   "cell_type": "markdown",
   "id": "da867e16-b65a-410d-b42e-5066da697113",
   "metadata": {},
   "source": [
    "## CHI-SQUARE TEST"
   ]
  },
  {
   "cell_type": "markdown",
   "id": "e967ab64-474f-4a8d-8a8b-27cce90ebb34",
   "metadata": {},
   "source": [
    "### Association between Device Type and Customer Satisfaction\n",
    "### Background:\n",
    "#### Mizzare Corporation has collected data on customer satisfaction levels for two types of smart home devices: Smart Thermostats and Smart Lights. They want to determine if there's a significant association between the type of device purchased and the customer's satisfaction level."
   ]
  },
  {
   "cell_type": "markdown",
   "id": "0d1f1ba1-fa9e-4293-a129-45c7f8bbf8a1",
   "metadata": {},
   "source": [
    "### Data Provided:\r",
    "#### \n",
    "The data is summarized in a contingency table showing the counts of customers in each satisfaction level for both types of devices:0\t600\r\n",
    "\r\n"
   ]
  },
  {
   "cell_type": "markdown",
   "id": "be60ac67-5a03-4dcd-b0a9-bef49cc924da",
   "metadata": {},
   "source": [
    "### | Satisfaction     | Smart Thermostat | Smart Light | Total |\n",
    "### |------------------|------------------|-------------|-------|\n",
    "### | Very Satisfied   | 50               | 70          | 120   |\n",
    "### | Satisfied        | 80               | 100         | 180   |\n",
    "### | Neutral          | 60               | 90          | 150   |\n",
    "### | Unsatisfied      | 30               | 50          | 80    |\n",
    "### | Very Unsatisfied | 20               | 50          | 70    |\n",
    "### | **Total**        | 240              | 360         | 600   |\n"
   ]
  },
  {
   "cell_type": "markdown",
   "id": "0abca580-b472-442b-b65e-faa437fbf803",
   "metadata": {},
   "source": [
    "### Objective:\r",
    "#### \n",
    "To use the Chi-Square test for independence to determine if there's a significant association between the type of smart home device purchased (Smart Thermostats vs. Smart Lights) and the customer satisfaction level\r\n"
   ]
  },
  {
   "cell_type": "markdown",
   "id": "f166c6a4-e691-4dab-bbaa-64e1e17f7055",
   "metadata": {},
   "source": [
    "### Task 1\n",
    "### State the Hypotheses:\n",
    "### Null Hypothesis (H0): \n",
    "#### There is no significant association between the type of smart home device (Smart Thermostats vs. Smart Lights) and customer satisfaction level.\n",
    "### Alternative Hypothesis (H1): \n",
    "#### There is a significant association between the type of smart home device and customer satisfaction level."
   ]
  },
  {
   "cell_type": "code",
   "execution_count": 29,
   "id": "6b1203e7-b2dd-4c33-94cc-5bb8bbb52b6b",
   "metadata": {},
   "outputs": [],
   "source": [
    "import numpy as np          # importing numpy library for numerical calculations\n",
    "from scipy import stats     # importing stats form scipy for probabilistic distributions and statistical operations"
   ]
  },
  {
   "cell_type": "code",
   "execution_count": 30,
   "id": "cbe7fc45-0092-448c-8ae8-b56f98b444c4",
   "metadata": {},
   "outputs": [],
   "source": [
    "# Observed frequencies from the contingency table\n",
    "observed = np.array([\n",
    "    [50, 70],  # Very Satisfied\n",
    "    [80, 100],  # Satisfied\n",
    "    [60, 90],  # Neutral\n",
    "    [30, 50],  # Unsatisfied\n",
    "    [20, 50]   # Very Unsatisfied\n",
    "])"
   ]
  },
  {
   "cell_type": "markdown",
   "id": "d3621d53-5f51-41ca-b775-13655d93d734",
   "metadata": {},
   "source": [
    "### Task 2: Compute the Chi-Square Statistic"
   ]
  },
  {
   "cell_type": "code",
   "execution_count": 31,
   "id": "494b08e2-9c7f-4573-afe8-214d6678fb1c",
   "metadata": {},
   "outputs": [],
   "source": [
    "# Total counts for rows and columns\n",
    "row_totals = observed.sum(axis=1)\n",
    "column_totals = observed.sum(axis=0)\n",
    "grand_total = observed.sum()"
   ]
  },
  {
   "cell_type": "code",
   "execution_count": 32,
   "id": "90453011-1693-45fb-8b12-360ab0fee717",
   "metadata": {},
   "outputs": [],
   "source": [
    "# Calculate expected frequencies\n",
    "expected = np.outer(row_totals, column_totals) / grand_total"
   ]
  },
  {
   "cell_type": "code",
   "execution_count": 33,
   "id": "b5ee2d02-fc1e-49b7-ba08-74c3349218ec",
   "metadata": {},
   "outputs": [],
   "source": [
    "# Calculate Chi-Square statistic\n",
    "chi_square_statistic = ((observed - expected) ** 2 / expected).sum()"
   ]
  },
  {
   "cell_type": "markdown",
   "id": "938e7889-2b6d-4368-83be-d6881e581755",
   "metadata": {},
   "source": [
    "### Task 3: Determine the Critical Value"
   ]
  },
  {
   "cell_type": "code",
   "execution_count": 34,
   "id": "c4483860-fd41-4ea8-9a81-54f6d3bdb7af",
   "metadata": {},
   "outputs": [],
   "source": [
    "# Degrees of freedom\n",
    "df = (observed.shape[0] - 1) * (observed.shape[1] - 1)"
   ]
  },
  {
   "cell_type": "code",
   "execution_count": 35,
   "id": "cbcbefaa-aab1-43f1-903a-cdd8a8cce0f9",
   "metadata": {},
   "outputs": [],
   "source": [
    "# Critical value at alpha = 0.05\n",
    "critical_value = stats.chi2.ppf(0.95, df)"
   ]
  },
  {
   "cell_type": "markdown",
   "id": "6e3f6cb9-3ecd-46a6-ae91-f021ccbedc20",
   "metadata": {},
   "source": [
    "### Task 4: Make a Decision"
   ]
  },
  {
   "cell_type": "code",
   "execution_count": 36,
   "id": "181d5bc5-affd-42c0-b2e5-41a4a907155f",
   "metadata": {},
   "outputs": [],
   "source": [
    "# p-value\n",
    "p_value = 1 - stats.chi2.cdf(chi_square_statistic, df)\n",
    "\n",
    "decision = \"Accept null hypothesis\" if chi_square_statistic < critical_value else \"Accept Alternative hypothesis\""
   ]
  },
  {
   "cell_type": "code",
   "execution_count": 39,
   "id": "424fcfe9-dc56-4884-9821-fda1869feb63",
   "metadata": {},
   "outputs": [
    {
     "name": "stdout",
     "output_type": "stream",
     "text": [
      "Chi-Square Statistic ;  5.638227513227513 \n",
      "Critical Value :  9.487729036781154 \n",
      "p-value :  0.22784371130697179 \n",
      "Decision :  Accept null hypothesis\n"
     ]
    }
   ],
   "source": [
    "# Print the results\n",
    "results = print(\"Chi-Square Statistic ; \",chi_square_statistic, \"\\nCritical Value : \", critical_value, \"\\np-value : \", p_value, \"\\nDecision : \", decision)"
   ]
  },
  {
   "cell_type": "markdown",
   "id": "fd37ae42-a82c-445a-9b90-ccc32faef60a",
   "metadata": {},
   "source": [
    "### Conclusion:\n",
    "#### There is no significant association between the type of smart home device (Smart Thermostats vs. Smart Lights) and the customer satisfaction level at the 0.05 significance level."
   ]
  },
  {
   "cell_type": "code",
   "execution_count": null,
   "id": "567caedf-bef5-4c58-a411-26db422b78ee",
   "metadata": {},
   "outputs": [],
   "source": [
    "# | Satisfaction     | Smart Thermostat | Smart Light | Total |\n",
    "# |------------------|------------------|-------------|-------|\n",
    "# | Very Satisfied   | 50               | 70          | 120   |\n",
    "# | Satisfied        | 80               | 100         | 180   |\n",
    "# | Neutral          | 60               | 90          | 150   |\n",
    "# | Unsatisfied      | 30               | 50          | 80    |\n",
    "# | Very Unsatisfied | 20               | 50          | 70    |\n",
    "# | **Total**        | 240              | 360         | 600   |\n"
   ]
  }
 ],
 "metadata": {
  "kernelspec": {
   "display_name": "Python 3 (ipykernel)",
   "language": "python",
   "name": "python3"
  },
  "language_info": {
   "codemirror_mode": {
    "name": "ipython",
    "version": 3
   },
   "file_extension": ".py",
   "mimetype": "text/x-python",
   "name": "python",
   "nbconvert_exporter": "python",
   "pygments_lexer": "ipython3",
   "version": "3.11.7"
  }
 },
 "nbformat": 4,
 "nbformat_minor": 5
}
