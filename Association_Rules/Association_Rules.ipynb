{
 "cells": [
  {
   "cell_type": "markdown",
   "id": "57bb13f2-7cb3-4f07-975e-59a497ad133d",
   "metadata": {},
   "source": [
    "# ASSOCIATION RULES"
   ]
  },
  {
   "cell_type": "markdown",
   "id": "73b0dd37-8538-4493-9e1f-5f8e9f77f251",
   "metadata": {},
   "source": [
    "### The Objective of this assignment is to introduce students to rule mining techniques, particularly focusing on market basket analysis and provide hands on experience."
   ]
  },
  {
   "cell_type": "markdown",
   "id": "3f7ffbb7-1325-4a51-b113-d941b4f1959f",
   "metadata": {},
   "source": [
    "### Dataset:"
   ]
  },
  {
   "cell_type": "markdown",
   "id": "67c82fdd-ea79-40ba-917f-8613a0959f26",
   "metadata": {},
   "source": [
    "#### Use the Online retail dataset to apply the association rules."
   ]
  },
  {
   "cell_type": "code",
   "execution_count": 1,
   "id": "a5944943-172b-4e16-bef2-0c23c5d279ec",
   "metadata": {},
   "outputs": [
    {
     "data": {
      "text/html": [
       "<div>\n",
       "<style scoped>\n",
       "    .dataframe tbody tr th:only-of-type {\n",
       "        vertical-align: middle;\n",
       "    }\n",
       "\n",
       "    .dataframe tbody tr th {\n",
       "        vertical-align: top;\n",
       "    }\n",
       "\n",
       "    .dataframe thead th {\n",
       "        text-align: right;\n",
       "    }\n",
       "</style>\n",
       "<table border=\"1\" class=\"dataframe\">\n",
       "  <thead>\n",
       "    <tr style=\"text-align: right;\">\n",
       "      <th></th>\n",
       "      <th>asparagus</th>\n",
       "      <th>almonds</th>\n",
       "      <th>antioxydant juice</th>\n",
       "      <th>asparagus</th>\n",
       "      <th>avocado</th>\n",
       "      <th>babies food</th>\n",
       "      <th>bacon</th>\n",
       "      <th>barbecue sauce</th>\n",
       "      <th>black tea</th>\n",
       "      <th>blueberries</th>\n",
       "      <th>...</th>\n",
       "      <th>turkey</th>\n",
       "      <th>vegetables mix</th>\n",
       "      <th>water spray</th>\n",
       "      <th>white wine</th>\n",
       "      <th>whole weat flour</th>\n",
       "      <th>whole wheat pasta</th>\n",
       "      <th>whole wheat rice</th>\n",
       "      <th>yams</th>\n",
       "      <th>yogurt cake</th>\n",
       "      <th>zucchini</th>\n",
       "    </tr>\n",
       "  </thead>\n",
       "  <tbody>\n",
       "    <tr>\n",
       "      <th>0</th>\n",
       "      <td>0</td>\n",
       "      <td>0</td>\n",
       "      <td>0</td>\n",
       "      <td>0</td>\n",
       "      <td>0</td>\n",
       "      <td>0</td>\n",
       "      <td>0</td>\n",
       "      <td>0</td>\n",
       "      <td>0</td>\n",
       "      <td>0</td>\n",
       "      <td>...</td>\n",
       "      <td>0</td>\n",
       "      <td>0</td>\n",
       "      <td>0</td>\n",
       "      <td>0</td>\n",
       "      <td>0</td>\n",
       "      <td>0</td>\n",
       "      <td>0</td>\n",
       "      <td>0</td>\n",
       "      <td>0</td>\n",
       "      <td>0</td>\n",
       "    </tr>\n",
       "    <tr>\n",
       "      <th>1</th>\n",
       "      <td>0</td>\n",
       "      <td>0</td>\n",
       "      <td>0</td>\n",
       "      <td>0</td>\n",
       "      <td>0</td>\n",
       "      <td>0</td>\n",
       "      <td>0</td>\n",
       "      <td>0</td>\n",
       "      <td>0</td>\n",
       "      <td>0</td>\n",
       "      <td>...</td>\n",
       "      <td>0</td>\n",
       "      <td>0</td>\n",
       "      <td>0</td>\n",
       "      <td>0</td>\n",
       "      <td>0</td>\n",
       "      <td>0</td>\n",
       "      <td>0</td>\n",
       "      <td>0</td>\n",
       "      <td>0</td>\n",
       "      <td>0</td>\n",
       "    </tr>\n",
       "    <tr>\n",
       "      <th>2</th>\n",
       "      <td>0</td>\n",
       "      <td>0</td>\n",
       "      <td>0</td>\n",
       "      <td>0</td>\n",
       "      <td>1</td>\n",
       "      <td>0</td>\n",
       "      <td>0</td>\n",
       "      <td>0</td>\n",
       "      <td>0</td>\n",
       "      <td>0</td>\n",
       "      <td>...</td>\n",
       "      <td>1</td>\n",
       "      <td>0</td>\n",
       "      <td>0</td>\n",
       "      <td>0</td>\n",
       "      <td>0</td>\n",
       "      <td>0</td>\n",
       "      <td>0</td>\n",
       "      <td>0</td>\n",
       "      <td>0</td>\n",
       "      <td>0</td>\n",
       "    </tr>\n",
       "    <tr>\n",
       "      <th>3</th>\n",
       "      <td>0</td>\n",
       "      <td>0</td>\n",
       "      <td>0</td>\n",
       "      <td>0</td>\n",
       "      <td>0</td>\n",
       "      <td>0</td>\n",
       "      <td>0</td>\n",
       "      <td>0</td>\n",
       "      <td>0</td>\n",
       "      <td>0</td>\n",
       "      <td>...</td>\n",
       "      <td>0</td>\n",
       "      <td>0</td>\n",
       "      <td>0</td>\n",
       "      <td>0</td>\n",
       "      <td>0</td>\n",
       "      <td>0</td>\n",
       "      <td>1</td>\n",
       "      <td>0</td>\n",
       "      <td>0</td>\n",
       "      <td>0</td>\n",
       "    </tr>\n",
       "    <tr>\n",
       "      <th>4</th>\n",
       "      <td>0</td>\n",
       "      <td>0</td>\n",
       "      <td>0</td>\n",
       "      <td>0</td>\n",
       "      <td>0</td>\n",
       "      <td>0</td>\n",
       "      <td>0</td>\n",
       "      <td>0</td>\n",
       "      <td>0</td>\n",
       "      <td>0</td>\n",
       "      <td>...</td>\n",
       "      <td>0</td>\n",
       "      <td>0</td>\n",
       "      <td>0</td>\n",
       "      <td>0</td>\n",
       "      <td>0</td>\n",
       "      <td>0</td>\n",
       "      <td>0</td>\n",
       "      <td>0</td>\n",
       "      <td>0</td>\n",
       "      <td>0</td>\n",
       "    </tr>\n",
       "  </tbody>\n",
       "</table>\n",
       "<p>5 rows × 120 columns</p>\n",
       "</div>"
      ],
      "text/plain": [
       "    asparagus  almonds  antioxydant juice  asparagus  avocado  babies food  \\\n",
       "0           0        0                  0          0        0            0   \n",
       "1           0        0                  0          0        0            0   \n",
       "2           0        0                  0          0        1            0   \n",
       "3           0        0                  0          0        0            0   \n",
       "4           0        0                  0          0        0            0   \n",
       "\n",
       "   bacon  barbecue sauce  black tea  blueberries  ...  turkey  vegetables mix  \\\n",
       "0      0               0          0            0  ...       0               0   \n",
       "1      0               0          0            0  ...       0               0   \n",
       "2      0               0          0            0  ...       1               0   \n",
       "3      0               0          0            0  ...       0               0   \n",
       "4      0               0          0            0  ...       0               0   \n",
       "\n",
       "   water spray  white wine  whole weat flour  whole wheat pasta  \\\n",
       "0            0           0                 0                  0   \n",
       "1            0           0                 0                  0   \n",
       "2            0           0                 0                  0   \n",
       "3            0           0                 0                  0   \n",
       "4            0           0                 0                  0   \n",
       "\n",
       "   whole wheat rice  yams  yogurt cake  zucchini  \n",
       "0                 0     0            0         0  \n",
       "1                 0     0            0         0  \n",
       "2                 0     0            0         0  \n",
       "3                 1     0            0         0  \n",
       "4                 0     0            0         0  \n",
       "\n",
       "[5 rows x 120 columns]"
      ]
     },
     "execution_count": 1,
     "metadata": {},
     "output_type": "execute_result"
    }
   ],
   "source": [
    "import pandas as pd\n",
    "\n",
    "# Load the dataset\n",
    "file_path = 'Online retail.xlsx'\n",
    "df = pd.read_excel(file_path, sheet_name='Sheet1')\n",
    "\n",
    "# Split the transactions into lists\n",
    "df['Transaction'] = df.iloc[:, 0].apply(lambda x: x.split(','))\n",
    "\n",
    "# Create a basket-like format by one-hot encoding the transactions\n",
    "all_items = sorted(set(item for sublist in df['Transaction'] for item in sublist))\n",
    "basket = pd.DataFrame(0, index=range(len(df)), columns=all_items)\n",
    "\n",
    "for i, transaction in enumerate(df['Transaction']):\n",
    "    for item in transaction:\n",
    "        basket.at[i, item] = 1\n",
    "\n",
    "# Display the first few rows of the basket format\n",
    "basket.head()"
   ]
  },
  {
   "cell_type": "code",
   "execution_count": 2,
   "id": "14d0def1-ba4d-4c2f-8102-98f82fa6f849",
   "metadata": {},
   "outputs": [
    {
     "name": "stdout",
     "output_type": "stream",
     "text": [
      "Requirement already satisfied: mlxtend in c:\\users\\dileep\\anaconda3\\lib\\site-packages (0.23.1)\n",
      "Requirement already satisfied: scipy>=1.2.1 in c:\\users\\dileep\\anaconda3\\lib\\site-packages (from mlxtend) (1.11.4)\n",
      "Requirement already satisfied: numpy>=1.16.2 in c:\\users\\dileep\\anaconda3\\lib\\site-packages (from mlxtend) (1.26.4)\n",
      "Requirement already satisfied: pandas>=0.24.2 in c:\\users\\dileep\\anaconda3\\lib\\site-packages (from mlxtend) (1.5.3)\n",
      "Requirement already satisfied: scikit-learn>=1.0.2 in c:\\users\\dileep\\anaconda3\\lib\\site-packages (from mlxtend) (1.1.3)\n",
      "Requirement already satisfied: matplotlib>=3.0.0 in c:\\users\\dileep\\anaconda3\\lib\\site-packages (from mlxtend) (3.8.0)\n",
      "Requirement already satisfied: joblib>=0.13.2 in c:\\users\\dileep\\anaconda3\\lib\\site-packages (from mlxtend) (1.2.0)\n",
      "Requirement already satisfied: contourpy>=1.0.1 in c:\\users\\dileep\\anaconda3\\lib\\site-packages (from matplotlib>=3.0.0->mlxtend) (1.2.0)\n",
      "Requirement already satisfied: cycler>=0.10 in c:\\users\\dileep\\anaconda3\\lib\\site-packages (from matplotlib>=3.0.0->mlxtend) (0.11.0)\n",
      "Requirement already satisfied: fonttools>=4.22.0 in c:\\users\\dileep\\anaconda3\\lib\\site-packages (from matplotlib>=3.0.0->mlxtend) (4.25.0)\n",
      "Requirement already satisfied: kiwisolver>=1.0.1 in c:\\users\\dileep\\anaconda3\\lib\\site-packages (from matplotlib>=3.0.0->mlxtend) (1.4.4)\n",
      "Requirement already satisfied: packaging>=20.0 in c:\\users\\dileep\\anaconda3\\lib\\site-packages (from matplotlib>=3.0.0->mlxtend) (23.1)\n",
      "Requirement already satisfied: pillow>=6.2.0 in c:\\users\\dileep\\anaconda3\\lib\\site-packages (from matplotlib>=3.0.0->mlxtend) (10.2.0)\n",
      "Requirement already satisfied: pyparsing>=2.3.1 in c:\\users\\dileep\\anaconda3\\lib\\site-packages (from matplotlib>=3.0.0->mlxtend) (3.0.9)\n",
      "Requirement already satisfied: python-dateutil>=2.7 in c:\\users\\dileep\\anaconda3\\lib\\site-packages (from matplotlib>=3.0.0->mlxtend) (2.8.2)\n",
      "Requirement already satisfied: pytz>=2020.1 in c:\\users\\dileep\\anaconda3\\lib\\site-packages (from pandas>=0.24.2->mlxtend) (2023.3.post1)\n",
      "Requirement already satisfied: threadpoolctl>=2.0.0 in c:\\users\\dileep\\anaconda3\\lib\\site-packages (from scikit-learn>=1.0.2->mlxtend) (2.2.0)\n",
      "Requirement already satisfied: six>=1.5 in c:\\users\\dileep\\anaconda3\\lib\\site-packages (from python-dateutil>=2.7->matplotlib>=3.0.0->mlxtend) (1.16.0)\n"
     ]
    }
   ],
   "source": [
    "!pip install mlxtend"
   ]
  },
  {
   "cell_type": "markdown",
   "id": "35e4e253-cef2-48e9-9ec9-d091f56fc729",
   "metadata": {},
   "source": [
    "### Association Rule Mining:"
   ]
  },
  {
   "cell_type": "markdown",
   "id": "2d873617-d769-4626-82d8-720e713372e2",
   "metadata": {},
   "source": [
    "#### • Implement an Apriori algorithm using tool like python with libraries such as Pandas and Mlxtend etc."
   ]
  },
  {
   "cell_type": "markdown",
   "id": "5f6a96ff-1347-4fd4-a485-21cd7762b4d2",
   "metadata": {},
   "source": [
    "#### •\tApply association rule mining techniques to the pre-processed dataset to discover interesting relationships between products purchased together."
   ]
  },
  {
   "cell_type": "markdown",
   "id": "fd940fee-8d6a-4a08-83c7-1f8e28e5fad0",
   "metadata": {},
   "source": [
    "#### • Set appropriate threshold for support, confidence and lift to extract meaning full rules."
   ]
  },
  {
   "cell_type": "code",
   "execution_count": 3,
   "id": "d670e72d-0f47-447d-b801-5df9e2287624",
   "metadata": {},
   "outputs": [
    {
     "name": "stderr",
     "output_type": "stream",
     "text": [
      "C:\\Users\\DILEEP\\anaconda3\\Lib\\site-packages\\mlxtend\\frequent_patterns\\fpcommon.py:109: DeprecationWarning: DataFrames with non-bool types result in worse computationalperformance and their support might be discontinued in the future.Please use a DataFrame with bool type\n",
      "  warnings.warn(\n"
     ]
    },
    {
     "data": {
      "text/html": [
       "<div>\n",
       "<style scoped>\n",
       "    .dataframe tbody tr th:only-of-type {\n",
       "        vertical-align: middle;\n",
       "    }\n",
       "\n",
       "    .dataframe tbody tr th {\n",
       "        vertical-align: top;\n",
       "    }\n",
       "\n",
       "    .dataframe thead th {\n",
       "        text-align: right;\n",
       "    }\n",
       "</style>\n",
       "<table border=\"1\" class=\"dataframe\">\n",
       "  <thead>\n",
       "    <tr style=\"text-align: right;\">\n",
       "      <th></th>\n",
       "      <th>support</th>\n",
       "      <th>itemsets</th>\n",
       "    </tr>\n",
       "  </thead>\n",
       "  <tbody>\n",
       "    <tr>\n",
       "      <th>0</th>\n",
       "      <td>0.020267</td>\n",
       "      <td>(almonds)</td>\n",
       "    </tr>\n",
       "    <tr>\n",
       "      <th>1</th>\n",
       "      <td>0.008800</td>\n",
       "      <td>(antioxydant juice)</td>\n",
       "    </tr>\n",
       "    <tr>\n",
       "      <th>2</th>\n",
       "      <td>0.033200</td>\n",
       "      <td>(avocado)</td>\n",
       "    </tr>\n",
       "    <tr>\n",
       "      <th>3</th>\n",
       "      <td>0.008667</td>\n",
       "      <td>(bacon)</td>\n",
       "    </tr>\n",
       "    <tr>\n",
       "      <th>4</th>\n",
       "      <td>0.010800</td>\n",
       "      <td>(barbecue sauce)</td>\n",
       "    </tr>\n",
       "    <tr>\n",
       "      <th>...</th>\n",
       "      <td>...</td>\n",
       "      <td>...</td>\n",
       "    </tr>\n",
       "    <tr>\n",
       "      <th>716</th>\n",
       "      <td>0.007467</td>\n",
       "      <td>(mineral water, spaghetti, soup)</td>\n",
       "    </tr>\n",
       "    <tr>\n",
       "      <th>717</th>\n",
       "      <td>0.009333</td>\n",
       "      <td>(mineral water, tomatoes, spaghetti)</td>\n",
       "    </tr>\n",
       "    <tr>\n",
       "      <th>718</th>\n",
       "      <td>0.006400</td>\n",
       "      <td>(mineral water, spaghetti, turkey)</td>\n",
       "    </tr>\n",
       "    <tr>\n",
       "      <th>719</th>\n",
       "      <td>0.006267</td>\n",
       "      <td>(mineral water, spaghetti, whole wheat rice)</td>\n",
       "    </tr>\n",
       "    <tr>\n",
       "      <th>720</th>\n",
       "      <td>0.005067</td>\n",
       "      <td>(spaghetti, pancakes, olive oil)</td>\n",
       "    </tr>\n",
       "  </tbody>\n",
       "</table>\n",
       "<p>721 rows × 2 columns</p>\n",
       "</div>"
      ],
      "text/plain": [
       "      support                                      itemsets\n",
       "0    0.020267                                     (almonds)\n",
       "1    0.008800                           (antioxydant juice)\n",
       "2    0.033200                                     (avocado)\n",
       "3    0.008667                                       (bacon)\n",
       "4    0.010800                              (barbecue sauce)\n",
       "..        ...                                           ...\n",
       "716  0.007467              (mineral water, spaghetti, soup)\n",
       "717  0.009333          (mineral water, tomatoes, spaghetti)\n",
       "718  0.006400            (mineral water, spaghetti, turkey)\n",
       "719  0.006267  (mineral water, spaghetti, whole wheat rice)\n",
       "720  0.005067              (spaghetti, pancakes, olive oil)\n",
       "\n",
       "[721 rows x 2 columns]"
      ]
     },
     "execution_count": 3,
     "metadata": {},
     "output_type": "execute_result"
    }
   ],
   "source": [
    "from mlxtend.frequent_patterns import apriori,association_rules\n",
    "frequent_itemsets = apriori(basket, min_support=0.005,max_len=3,use_colnames = True)\n",
    "frequent_itemsets "
   ]
  },
  {
   "cell_type": "code",
   "execution_count": 4,
   "id": "2a942a21-7b9d-43a9-a0ca-24dcad77028f",
   "metadata": {},
   "outputs": [
    {
     "data": {
      "text/plain": [
       "<bound method DataFrame.sort_values of       support                                     itemsets\n",
       "60   0.238267                              (mineral water)\n",
       "27   0.179733                                       (eggs)\n",
       "83   0.174133                                  (spaghetti)\n",
       "33   0.170933                               (french fries)\n",
       "20   0.163867                                  (chocolate)\n",
       "..        ...                                          ...\n",
       "642  0.005067              (mineral water, tomatoes, eggs)\n",
       "644  0.005067                 (eggs, spaghetti, olive oil)\n",
       "670  0.005067     (mineral water, frozen vegetables, soup)\n",
       "676  0.005067  (mineral water, grated cheese, ground beef)\n",
       "720  0.005067             (spaghetti, pancakes, olive oil)\n",
       "\n",
       "[721 rows x 2 columns]>"
      ]
     },
     "execution_count": 4,
     "metadata": {},
     "output_type": "execute_result"
    }
   ],
   "source": [
    "frequent_itemsets.sort_values('support',ascending = False,inplace=True)\n",
    "frequent_itemsets.sort_values "
   ]
  },
  {
   "cell_type": "code",
   "execution_count": 5,
   "id": "c4a8d4eb-85e1-4896-bc89-0d8d1f40feff",
   "metadata": {},
   "outputs": [
    {
     "data": {
      "text/html": [
       "<div>\n",
       "<style scoped>\n",
       "    .dataframe tbody tr th:only-of-type {\n",
       "        vertical-align: middle;\n",
       "    }\n",
       "\n",
       "    .dataframe tbody tr th {\n",
       "        vertical-align: top;\n",
       "    }\n",
       "\n",
       "    .dataframe thead th {\n",
       "        text-align: right;\n",
       "    }\n",
       "</style>\n",
       "<table border=\"1\" class=\"dataframe\">\n",
       "  <thead>\n",
       "    <tr style=\"text-align: right;\">\n",
       "      <th></th>\n",
       "      <th>antecedents</th>\n",
       "      <th>consequents</th>\n",
       "      <th>antecedent support</th>\n",
       "      <th>consequent support</th>\n",
       "      <th>support</th>\n",
       "      <th>confidence</th>\n",
       "      <th>lift</th>\n",
       "      <th>leverage</th>\n",
       "      <th>conviction</th>\n",
       "      <th>zhangs_metric</th>\n",
       "    </tr>\n",
       "  </thead>\n",
       "  <tbody>\n",
       "    <tr>\n",
       "      <th>1266</th>\n",
       "      <td>(escalope)</td>\n",
       "      <td>(pasta)</td>\n",
       "      <td>0.079333</td>\n",
       "      <td>0.015733</td>\n",
       "      <td>0.005867</td>\n",
       "      <td>0.073950</td>\n",
       "      <td>4.700185</td>\n",
       "      <td>0.004618</td>\n",
       "      <td>1.062865</td>\n",
       "      <td>0.855079</td>\n",
       "    </tr>\n",
       "    <tr>\n",
       "      <th>1267</th>\n",
       "      <td>(pasta)</td>\n",
       "      <td>(escalope)</td>\n",
       "      <td>0.015733</td>\n",
       "      <td>0.079333</td>\n",
       "      <td>0.005867</td>\n",
       "      <td>0.372881</td>\n",
       "      <td>4.700185</td>\n",
       "      <td>0.004618</td>\n",
       "      <td>1.468090</td>\n",
       "      <td>0.799826</td>\n",
       "    </tr>\n",
       "    <tr>\n",
       "      <th>1785</th>\n",
       "      <td>(pasta)</td>\n",
       "      <td>(shrimp)</td>\n",
       "      <td>0.015733</td>\n",
       "      <td>0.071333</td>\n",
       "      <td>0.005067</td>\n",
       "      <td>0.322034</td>\n",
       "      <td>4.514494</td>\n",
       "      <td>0.003944</td>\n",
       "      <td>1.369783</td>\n",
       "      <td>0.790935</td>\n",
       "    </tr>\n",
       "    <tr>\n",
       "      <th>1784</th>\n",
       "      <td>(shrimp)</td>\n",
       "      <td>(pasta)</td>\n",
       "      <td>0.071333</td>\n",
       "      <td>0.015733</td>\n",
       "      <td>0.005067</td>\n",
       "      <td>0.071028</td>\n",
       "      <td>4.514494</td>\n",
       "      <td>0.003944</td>\n",
       "      <td>1.059522</td>\n",
       "      <td>0.838289</td>\n",
       "    </tr>\n",
       "    <tr>\n",
       "      <th>662</th>\n",
       "      <td>(whole wheat pasta)</td>\n",
       "      <td>(olive oil)</td>\n",
       "      <td>0.029467</td>\n",
       "      <td>0.065733</td>\n",
       "      <td>0.008000</td>\n",
       "      <td>0.271493</td>\n",
       "      <td>4.130221</td>\n",
       "      <td>0.006063</td>\n",
       "      <td>1.282441</td>\n",
       "      <td>0.780893</td>\n",
       "    </tr>\n",
       "    <tr>\n",
       "      <th>663</th>\n",
       "      <td>(olive oil)</td>\n",
       "      <td>(whole wheat pasta)</td>\n",
       "      <td>0.065733</td>\n",
       "      <td>0.029467</td>\n",
       "      <td>0.008000</td>\n",
       "      <td>0.121704</td>\n",
       "      <td>4.130221</td>\n",
       "      <td>0.006063</td>\n",
       "      <td>1.105018</td>\n",
       "      <td>0.811205</td>\n",
       "    </tr>\n",
       "    <tr>\n",
       "      <th>1118</th>\n",
       "      <td>(spaghetti, herb &amp; pepper)</td>\n",
       "      <td>(ground beef)</td>\n",
       "      <td>0.016267</td>\n",
       "      <td>0.098267</td>\n",
       "      <td>0.006400</td>\n",
       "      <td>0.393443</td>\n",
       "      <td>4.003826</td>\n",
       "      <td>0.004802</td>\n",
       "      <td>1.486641</td>\n",
       "      <td>0.762645</td>\n",
       "    </tr>\n",
       "    <tr>\n",
       "      <th>1119</th>\n",
       "      <td>(ground beef)</td>\n",
       "      <td>(spaghetti, herb &amp; pepper)</td>\n",
       "      <td>0.098267</td>\n",
       "      <td>0.016267</td>\n",
       "      <td>0.006400</td>\n",
       "      <td>0.065129</td>\n",
       "      <td>4.003826</td>\n",
       "      <td>0.004802</td>\n",
       "      <td>1.052266</td>\n",
       "      <td>0.831996</td>\n",
       "    </tr>\n",
       "    <tr>\n",
       "      <th>952</th>\n",
       "      <td>(mineral water, herb &amp; pepper)</td>\n",
       "      <td>(ground beef)</td>\n",
       "      <td>0.017067</td>\n",
       "      <td>0.098267</td>\n",
       "      <td>0.006667</td>\n",
       "      <td>0.390625</td>\n",
       "      <td>3.975153</td>\n",
       "      <td>0.004990</td>\n",
       "      <td>1.479768</td>\n",
       "      <td>0.761432</td>\n",
       "    </tr>\n",
       "    <tr>\n",
       "      <th>957</th>\n",
       "      <td>(ground beef)</td>\n",
       "      <td>(mineral water, herb &amp; pepper)</td>\n",
       "      <td>0.098267</td>\n",
       "      <td>0.017067</td>\n",
       "      <td>0.006667</td>\n",
       "      <td>0.067843</td>\n",
       "      <td>3.975153</td>\n",
       "      <td>0.004990</td>\n",
       "      <td>1.054471</td>\n",
       "      <td>0.829999</td>\n",
       "    </tr>\n",
       "  </tbody>\n",
       "</table>\n",
       "</div>"
      ],
      "text/plain": [
       "                         antecedents                     consequents  \\\n",
       "1266                      (escalope)                         (pasta)   \n",
       "1267                         (pasta)                      (escalope)   \n",
       "1785                         (pasta)                        (shrimp)   \n",
       "1784                        (shrimp)                         (pasta)   \n",
       "662              (whole wheat pasta)                     (olive oil)   \n",
       "663                      (olive oil)             (whole wheat pasta)   \n",
       "1118      (spaghetti, herb & pepper)                   (ground beef)   \n",
       "1119                   (ground beef)      (spaghetti, herb & pepper)   \n",
       "952   (mineral water, herb & pepper)                   (ground beef)   \n",
       "957                    (ground beef)  (mineral water, herb & pepper)   \n",
       "\n",
       "      antecedent support  consequent support   support  confidence      lift  \\\n",
       "1266            0.079333            0.015733  0.005867    0.073950  4.700185   \n",
       "1267            0.015733            0.079333  0.005867    0.372881  4.700185   \n",
       "1785            0.015733            0.071333  0.005067    0.322034  4.514494   \n",
       "1784            0.071333            0.015733  0.005067    0.071028  4.514494   \n",
       "662             0.029467            0.065733  0.008000    0.271493  4.130221   \n",
       "663             0.065733            0.029467  0.008000    0.121704  4.130221   \n",
       "1118            0.016267            0.098267  0.006400    0.393443  4.003826   \n",
       "1119            0.098267            0.016267  0.006400    0.065129  4.003826   \n",
       "952             0.017067            0.098267  0.006667    0.390625  3.975153   \n",
       "957             0.098267            0.017067  0.006667    0.067843  3.975153   \n",
       "\n",
       "      leverage  conviction  zhangs_metric  \n",
       "1266  0.004618    1.062865       0.855079  \n",
       "1267  0.004618    1.468090       0.799826  \n",
       "1785  0.003944    1.369783       0.790935  \n",
       "1784  0.003944    1.059522       0.838289  \n",
       "662   0.006063    1.282441       0.780893  \n",
       "663   0.006063    1.105018       0.811205  \n",
       "1118  0.004802    1.486641       0.762645  \n",
       "1119  0.004802    1.052266       0.831996  \n",
       "952   0.004990    1.479768       0.761432  \n",
       "957   0.004990    1.054471       0.829999  "
      ]
     },
     "execution_count": 5,
     "metadata": {},
     "output_type": "execute_result"
    }
   ],
   "source": [
    "rules = association_rules(frequent_itemsets, metric=\"lift\", min_threshold=1)\n",
    "rules.head(20)\n",
    "rules.sort_values('lift',ascending = False).head(10)  "
   ]
  },
  {
   "cell_type": "markdown",
   "id": "d8254ce3-303e-48e9-88a0-8978bdd5b1b1",
   "metadata": {},
   "source": [
    "### Analysis and Interpretation:"
   ]
  },
  {
   "cell_type": "markdown",
   "id": "0939155b-b2e2-4ae1-aaa0-aa8acfc19183",
   "metadata": {},
   "source": [
    "#### •\tAnalyse the generated rules to identify interesting patterns and relationships between the products."
   ]
  },
  {
   "cell_type": "markdown",
   "id": "448c9d8f-fea2-4686-ae16-b991beebd3c7",
   "metadata": {},
   "source": [
    "#### •\tInterpret the results and provide insights into customer purchasing behaviour based on the discovered rules."
   ]
  },
  {
   "cell_type": "markdown",
   "id": "cfa28801-9a9d-4146-944f-3785a4027b49",
   "metadata": {},
   "source": [
    "### 1. High Lift Values:"
   ]
  },
  {
   "cell_type": "markdown",
   "id": "301b87b4-54f0-4133-941b-bbf279bc8491",
   "metadata": {},
   "source": [
    "#### The rules with high lift values, such as {pasta} -> {escalope} (4.7) and {shrimp} -> {pasta} (4.5), indicate a strong association between these product pairs. The lift value above 1 suggests that the occurrence of the antecedent (e.g., pasta) significantly increases the likelihood of the consequent (e.g., escalope) being purchased together."
   ]
  },
  {
   "cell_type": "markdown",
   "id": "4bcf2cae-6628-44d0-b4ff-ecacfa5a6df7",
   "metadata": {},
   "source": [
    "### 2. Confidence and Support:"
   ]
  },
  {
   "cell_type": "markdown",
   "id": "0e7072d8-0080-4e58-9956-13dae643d734",
   "metadata": {},
   "source": [
    "#### Low Confidence: Despite high lift values, some rules like {pasta} -> {escalope} have a low confidence (0.37). This suggests that while these products are likely to be bought together, pasta is purchased more frequently without escalope, limiting the confidence.\n",
    "#### Moderate Support: The support values are generally low (around 0.005 to 0.009). This suggests that these product pairs are not bought together in a large percentage of transactions, but when they do appear, the association is strong."
   ]
  },
  {
   "cell_type": "markdown",
   "id": "45e0aa4e-846a-4fb5-80e7-af8714e98283",
   "metadata": {},
   "source": [
    "### 3. Specific Product Relationships:"
   ]
  },
  {
   "cell_type": "markdown",
   "id": "cf5550c6-9b89-4bea-a7a5-a7b223d12314",
   "metadata": {},
   "source": [
    "#### Ground Beef: The rules involving ground beef indicate a strong association with both {spaghetti, herb & pepper} and {herb & pepper, mineral water}. The lift values (~4.0) indicate that these products are often bought together. For instance, customers who purchase ground beef are likely to also purchase spaghetti, herb & pepper, which suggests a possible recipe combination.\n",
    "#### Pasta and Escalope: The rule {pasta} -> {escalope} shows that customers buying pasta might also be preparing meals that involve escalope, hence the strong lift despite the low confidence."
   ]
  },
  {
   "cell_type": "markdown",
   "id": "74ae979e-987d-4f34-ac35-4c9727ae36a3",
   "metadata": {},
   "source": [
    "### 4. Multiple Product Combinations:"
   ]
  },
  {
   "cell_type": "markdown",
   "id": "5b44744e-10b4-4d4d-b1ed-2f8148cb739d",
   "metadata": {},
   "source": [
    "#### Herb & Pepper, Mineral Water, Ground Beef: The rule {ground beef} -> {herb & pepper, mineral water} with a lift of 3.98 suggests that these products are often bought together, perhaps as ingredients for a particular type of dish. The confidence is low, but the lift indicates a strong relationship when they do co-occur."
   ]
  },
  {
   "cell_type": "markdown",
   "id": "943eedb5-1300-4191-b695-e46178fa82da",
   "metadata": {},
   "source": [
    "## Interpretation and Insights:"
   ]
  },
  {
   "cell_type": "markdown",
   "id": "ebb8f508-8b78-4ac6-8ec7-5450dbeb9815",
   "metadata": {},
   "source": [
    "### 1. Meal Preparation Patterns:"
   ]
  },
  {
   "cell_type": "markdown",
   "id": "86fcb73d-afd7-4e29-bb0e-e6a6b4104499",
   "metadata": {},
   "source": [
    "#### The rules suggest that certain meal preparation patterns are common among customers. For example, ground beef, when bought, is likely paired with ingredients like herb & pepper, mineral water, and spaghetti. This indicates that customers might be buying ingredients for specific recipes, such as pasta dishes."
   ]
  },
  {
   "cell_type": "markdown",
   "id": "a8cc2bde-56dd-4843-b885-a05e271020df",
   "metadata": {},
   "source": [
    "### 2. Cross-Selling Opportunities:"
   ]
  },
  {
   "cell_type": "markdown",
   "id": "ac305777-6378-420c-b291-ab0442ed8581",
   "metadata": {},
   "source": [
    "#### Products like pasta and escalope or ground beef and herb & pepper can be marketed together. Retailers could create combo offers or place these products near each other in stores to encourage joint purchases."
   ]
  },
  {
   "cell_type": "markdown",
   "id": "c0f35fd2-b69c-4bf7-b28f-25fab39295d4",
   "metadata": {},
   "source": [
    "### 3. Targeted Promotions:"
   ]
  },
  {
   "cell_type": "markdown",
   "id": "cc6a6193-cdfc-4901-949b-c192f2df5b22",
   "metadata": {},
   "source": [
    "#### Given the strong lift values, promotions targeting customers who purchase one product with a discount or recommendation for the associated product could drive additional sales. For instance, offering a discount on herb & pepper when ground beef is purchased might be an effective strategy."
   ]
  },
  {
   "cell_type": "markdown",
   "id": "6e784ef4-6d32-4cc3-8783-e6f0289a51c7",
   "metadata": {},
   "source": [
    "### 4. Niche Market Segments:"
   ]
  },
  {
   "cell_type": "markdown",
   "id": "a32345bf-d582-46c1-9db0-9ce991f5fa4c",
   "metadata": {},
   "source": [
    "#### The relatively low support but high lift and confidence values suggest that while these product combinations might not be universally popular, they are significant within certain customer segments. Identifying and targeting these niche segments with tailored promotions could be profitable."
   ]
  },
  {
   "cell_type": "code",
   "execution_count": null,
   "id": "69e10e91-8347-458d-a0da-d6db0d18d429",
   "metadata": {},
   "outputs": [],
   "source": []
  }
 ],
 "metadata": {
  "kernelspec": {
   "display_name": "Python 3 (ipykernel)",
   "language": "python",
   "name": "python3"
  },
  "language_info": {
   "codemirror_mode": {
    "name": "ipython",
    "version": 3
   },
   "file_extension": ".py",
   "mimetype": "text/x-python",
   "name": "python",
   "nbconvert_exporter": "python",
   "pygments_lexer": "ipython3",
   "version": "3.11.7"
  }
 },
 "nbformat": 4,
 "nbformat_minor": 5
}
